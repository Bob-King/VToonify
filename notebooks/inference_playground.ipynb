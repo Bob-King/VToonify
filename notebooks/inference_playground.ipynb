{
  "cells": [
    {
      "cell_type": "markdown",
      "metadata": {
        "id": "Tg7EfmBZzwMM"
      },
      "source": [
        "[![Open in Colab](https://colab.research.google.com/assets/colab-badge.svg)](https://colab.research.google.com/github/williamyang1991/VToonify/blob/master/notebooks/inference_playground.ipynb)"
      ]
    },
    {
      "cell_type": "markdown",
      "metadata": {
        "id": "qPGiB9946Uze"
      },
      "source": [
        "This colab contains three parts\n",
        "\n",
        "\n",
        "- **PART1**: Build a web demo with Gradio UI for easy use\n",
        "  - Easy Uploading of your own photo or video\n",
        "  - Easy loading of pre-trained model\n",
        "  - Just click the button to toonify\n",
        "  - The pretrained model will be downloaded from HuggingFace model\n",
        "  - This part is independent of the following two parts.\n",
        "- **PART2**: Style tranfer with Colab UI where you can look into the code details and easily modify the code\n",
        "  - The pretrained model will be downloaded from Google Drive\n",
        "- **PART3**: Style control with Colab UI where you can look into the code details and easily modify the code\n",
        "  - The pretrained model will be downloaded from Google Drive"
      ]
    },
    {
      "cell_type": "markdown",
      "metadata": {
        "id": "3FthlHXKfd0v"
      },
      "source": [
        "# PART I - Style Transfer with Gradio UI\n"
      ]
    },
    {
      "cell_type": "code",
      "execution_count": null,
      "metadata": {
        "colab": {
          "base_uri": "https://localhost:8080/"
        },
        "id": "ZLdS57vYfo1f",
        "outputId": "b46ede1a-9d06-40c0-b0a7-4837cf5de1f9"
      },
      "outputs": [],
      "source": [
        "!pip install gradio huggingface_hub"
      ]
    },
    {
      "cell_type": "code",
      "execution_count": null,
      "metadata": {
        "id": "DLpxP-Ge8pwB"
      },
      "outputs": [],
      "source": [
        "import os\n",
        "os.environ['CUDA_VISIBLE_DEVICES'] = \"0\"\n",
        "os.chdir('../')\n",
        "DEMO_DIR = 'VToonify_Gradio'\n",
        "device = 'cuda'"
      ]
    },
    {
      "cell_type": "code",
      "execution_count": null,
      "metadata": {
        "colab": {
          "base_uri": "https://localhost:8080/"
        },
        "id": "0S36V17c8zYo",
        "outputId": "6a040904-f99c-4e16-f38c-9c687bccfd8c"
      },
      "outputs": [],
      "source": [
        "!git clone https://huggingface.co/spaces/PKUWilliamYang/VToonify $DEMO_DIR"
      ]
    },
    {
      "cell_type": "code",
      "execution_count": null,
      "metadata": {
        "id": "H5GZdb5x9Db5"
      },
      "outputs": [],
      "source": [
        "os.chdir(f'./{DEMO_DIR}')"
      ]
    },
    {
      "cell_type": "code",
      "execution_count": null,
      "metadata": {
        "colab": {
          "base_uri": "https://localhost:8080/",
          "height": 228,
          "referenced_widgets": [
            "21f833a93e9c43ef98939317feade7b8",
            "0cf94efcc2824cf2a013de0254685285",
            "7d2fc6e2d906408e9b991a8c985955ad",
            "da83f3e4f6c448f3bd0dda1e7ca64e9e",
            "75a66d01df844b1b9abb4273da6fbaed",
            "b022906d3e934b42818c0c52d8130a20",
            "a66b251203c444f8b2b01f516cd68ba8",
            "3459e93f790941c6ab04ffe6e78ea22f",
            "96f9cce8b472429d83a8c0bc7d355e6f",
            "e86f60d09d0645629e3ac4a23115556d",
            "fcb4f7d8cd6e41db9c697060e7c80ad5",
            "a1812a99441842169c1453db08aa2a2a",
            "a062ac51c49542ed9ca0ba09bc20893d",
            "f3cc64361e3a4435a3dec8e924d9ef20",
            "c8047dd7bda64e978d212c0efb117e93",
            "44e77fd739fb4776b7295f3e99984488",
            "8939a155bf6945dd9a8bedad1b18892f",
            "4fb2072821fa485b8f5d4b61579aa310",
            "98a9c8fc34db45d39f84ae97d88a72b1",
            "ab0963ef48654eb293e327f013e260f6",
            "fb77d0c9943943af9d2e50b2bd71eade",
            "cf1fca3614804015a67283236be675ab",
            "1b491be27e2e47c0bc8be11e1afc402b",
            "a97827740d274f51a39dd8295abcfe18",
            "db7b4df7061640feb285bbd358b20ad6",
            "c496eaefd7d6429ca4e4e8bf93cef5b4",
            "ae50f1d0ded947a6a8e33f116bcfbe4f",
            "62a6bc0f57ae44298f641ec0cead98c2",
            "0233d2cbd94f42389554b9c0d76a136e",
            "d9c3c2228e1a4802a2d8e701a51095db",
            "ceb808d356c74b40bd0c68bea8ccb759",
            "0e45b02b2c4545ba96149d4769e8e181",
            "896f07951b9a401aa1e9fb52d0183f7b",
            "21fb0a4ba5e04e4298c47633e4c7471e",
            "df489cd4cf024cd49747b6382d3b3bb2",
            "8e74e28f4a744362b959980f42eb4bee",
            "07bdc302e8dc4b1caa085031dd41851f",
            "09073b769bb64c0db6fbbd547967bcf5",
            "13c875fb0a5d452b9e40ff8d019e2fb6",
            "6dc7df2addf44f3ebde565e6c8711b2d",
            "d706643f9de14a09bd78b07aa393eb0a",
            "aeccce28172c425ea0efedfcef644608",
            "863a70460e80433fa5fe5676481e7f0c",
            "b04067d27666476f926ac6dfbb05226b",
            "ede25adbe55d4ef1b2e6fba9be272ee9",
            "070e5e078f2245319ac8803ad025f379",
            "4fb50f2b73684d09824e237ac85d091c",
            "0da464735a6e44b9a66179f215867f6e",
            "a1144ee5faf94ab4baeff381897f9e10",
            "ae36bdd710d249c3aea9df81f3697ec7",
            "95d233eae4d24eac805f75e5eec244f2",
            "2808631d943d4ff2812086df93ae8b50",
            "dcbce404c811450b970ad6400b2c2627",
            "310c688583014ce3871018c4c30526ab",
            "53a1cde031194a5b924bc95ff3bd00ac",
            "e7adf73c856540a6abff810b359d3b2f",
            "ab26850483484b1897a19a3f9417aa33",
            "d32ab1f0f3904c719c2fa70307ee0547",
            "96480d758db2437eaf9cfb00459e1408",
            "f0eb6644af49495eb585e6984b1adac6",
            "bb601c1f64474ab1bd2f866d3f30264b",
            "21e49500c949449593305a0fe62ad61d",
            "c943cbfdf58a45e881ea259e998593ea",
            "9f472f1147444f4ca87ca5ec781a50e7",
            "fd3371346c9e4fa08b60cabb5b75a830",
            "838775ae8d124e57b7cf9a1165a4eaca"
          ]
        },
        "id": "I99dpdo1ft71",
        "outputId": "3f07f7ef-e7b2-4d8b-cad3-7031c6baa002"
      },
      "outputs": [],
      "source": [
        "from __future__ import annotations\n",
        "import pathlib\n",
        "import gradio as gr\n",
        "from vtoonify_model import Model\n",
        "\n",
        "def update_slider(choice: str) -> dict:\n",
        "    if type(choice) == str and choice.endswith('-d'):\n",
        "        return gr.Slider.update(maximum=1, minimum=0, value=0.5)\n",
        "    else:\n",
        "        return gr.Slider.update(maximum=0.5, minimum=0.5, value=0.5)\n",
        "\n",
        "def set_example_image(example: list) -> dict:\n",
        "    return gr.Image.update(value=example[0])\n",
        "\n",
        "def set_example_video(example: list) -> dict:\n",
        "    return gr.Video.update(value=example[0]), \n",
        "   \n",
        "sample_video = ['./vtoonify/data/529_2.mp4','./vtoonify/data/7154235.mp4','./vtoonify/data/651.mp4','./vtoonify/data/908.mp4']\n",
        "sample_vid = gr.Video(label='Video file')  #for displaying the example\n",
        "example_videos = gr.components.Dataset(components=[sample_vid], samples=[[path] for path in sample_video], type='values', label='Video Examples')     \n",
        "\n",
        "model = Model('cuda')\n",
        "\n",
        "# if you would like to run long videos, set model.video_limit_gpu to a large value\n",
        "model.video_limit_gpu = 1000000   # currently we don't have limitation on the frames with GPU\n",
        "model.video_limit_cpu = 100   # currently we only toonify 100 frames per video with CPU"
      ]
    },
    {
      "cell_type": "code",
      "execution_count": null,
      "metadata": {
        "colab": {
          "base_uri": "https://localhost:8080/"
        },
        "id": "0Mz2MNcOgai6",
        "outputId": "12922e3b-59f3-47cb-9de3-12de63214591"
      },
      "outputs": [],
      "source": [
        "DESCRIPTION = '''\n",
        "<div align=center>\n",
        "<h1 style=\"font-weight: 900; margin-bottom: 7px;\">\n",
        "   Portrait Style Transfer with <a href=\"https://github.com/williamyang1991/VToonify\">VToonify</a>\n",
        "</h1>\n",
        "</div>\n",
        "'''\n",
        "FOOTER = '<div align=center><img id=\"visitor-badge\" alt=\"visitor badge\" src=\"https://visitor-badge.laobi.icu/badge?page_id=williamyang1991/VToonify\" /></div>'\n",
        "\n",
        "ARTICLE = r\"\"\"\n",
        "If VToonify is helpful, please help to ⭐ the <a href='https://github.com/williamyang1991/VToonify' target='_blank'>Github Repo</a>. Thanks! \n",
        "[![GitHub Stars](https://img.shields.io/github/stars/williamyang1991/VToonify?style=social)](https://github.com/williamyang1991/VToonify)\n",
        "---\n",
        "📝 **Citation**\n",
        "If our work is useful for your research, please consider citing:\n",
        "```bibtex\n",
        "@article{yang2022Vtoonify,\n",
        "  title={VToonify: Controllable High-Resolution Portrait Video Style Transfer},\n",
        "  author={Yang, Shuai and Jiang, Liming and Liu, Ziwei and Loy, Chen Change},\n",
        "  journal={ACM Transactions on Graphics (TOG)},\n",
        "  volume={41},\n",
        "  number={6},\n",
        "  articleno={203},\n",
        "  pages={1--15},\n",
        "  year={2022},\n",
        "  publisher={ACM New York, NY, USA},\n",
        "  doi={10.1145/3550454.3555437},\n",
        "}\n",
        "```\n",
        "📋 **License**\n",
        "This project is licensed under <a rel=\"license\" href=\"https://github.com/williamyang1991/VToonify/blob/main/LICENSE.md\">S-Lab License 1.0</a>. \n",
        "Redistribution and use for non-commercial purposes should follow this license.\n",
        "📧 **Contact**\n",
        "If you have any questions, please feel free to reach me out at <b>williamyang@pku.edu.cn</b>.\n",
        "\"\"\"\n",
        "\n",
        "\n",
        "with gr.Blocks() as demo:\n",
        "\n",
        "    gr.Markdown(DESCRIPTION)\n",
        "\n",
        "    with gr.Box():\n",
        "        gr.Markdown('''## Step 1(Select Style)\n",
        "- Select **Style Type**.\n",
        "    - Type with `-d` means it supports style degree adjustment.\n",
        "    - Type without `-d` usually has better toonification quality.\n",
        "''')\n",
        "        with gr.Row():\n",
        "            with gr.Column():\n",
        "                gr.Markdown('''Select Style Type''')  \n",
        "                with gr.Row():\n",
        "                    style_type = gr.Radio(label='Style Type',\n",
        "                                          choices=['cartoon1','cartoon1-d','cartoon2-d','cartoon3-d',\n",
        "                                                   'cartoon4','cartoon4-d','cartoon5-d','comic1-d',\n",
        "                                                   'comic2-d', 'arcane1','arcane1-d','arcane2', 'arcane2-d',\n",
        "                                                   'caricature1','caricature2','pixar','pixar-d',\n",
        "                                                   'illustration1-d', 'illustration2-d', 'illustration3-d', 'illustration4-d', 'illustration5-d', \n",
        "                                                  ]\n",
        "                                         )   \n",
        "                    exstyle = gr.Variable()\n",
        "                with gr.Row():\n",
        "                    loadmodel_button = gr.Button('Load Model')\n",
        "                with gr.Row():\n",
        "                    load_info = gr.Textbox(label='Process Information', interactive=False, value='No model loaded.')\n",
        "            with gr.Column():\n",
        "                gr.Markdown('''Reference Styles\n",
        "![example](https://raw.githubusercontent.com/williamyang1991/tmpfile/master/vtoonify/style.jpg)''')   \n",
        "\n",
        "\n",
        "    with gr.Box():\n",
        "        gr.Markdown('''## Step 2 (Preprocess Input Image / Video)\n",
        "- Drop an image/video containing a near-frontal face to the **Input Image**/**Input Video**.\n",
        "- Hit the **Rescale Image**/**Rescale First Frame** button.\n",
        "    - Rescale the input to make it best fit the model.\n",
        "    - The final image result will be based on this **Rescaled Face**. Use padding parameters to adjust the background space.\n",
        "    - **<font color=red>Solution to [Error: no face detected!]</font>**: VToonify uses dlib.get_frontal_face_detector but sometimes it fails to detect a face. You can try several times or use other images until a face is detected, then switch back to the original image.\n",
        "- For video input, further hit the **Rescale Video** button.\n",
        "    - The final video result will be based on this **Rescaled Video**. To avoid overload, video is cut to at most **100** frames for CPU, respectively.\n",
        "''')\n",
        "        with gr.Row():\n",
        "            with gr.Box():\n",
        "                with gr.Column():\n",
        "                    gr.Markdown('''Choose the padding parameters.\n",
        "    ![example](https://raw.githubusercontent.com/williamyang1991/tmpfile/master/vtoonify/rescale.jpg)''')\n",
        "                    with gr.Row():\n",
        "                        top = gr.Slider(128,\n",
        "                                        256,\n",
        "                                        value=160,\n",
        "                                        step=8,\n",
        "                                        label='top')\n",
        "                    with gr.Row():\n",
        "                        bottom = gr.Slider(128,\n",
        "                                        256,\n",
        "                                        value=160,\n",
        "                                        step=8,\n",
        "                                        label='bottom')\n",
        "                    with gr.Row():\n",
        "                        left = gr.Slider(128,\n",
        "                                        256,\n",
        "                                        value=160,\n",
        "                                        step=8,\n",
        "                                        label='left')\n",
        "                    with gr.Row():\n",
        "                        right = gr.Slider(128,\n",
        "                                        256,\n",
        "                                        value=160,\n",
        "                                        step=8,\n",
        "                                        label='right')     \n",
        "            with gr.Box():\n",
        "                with gr.Column():\n",
        "                    gr.Markdown('''Input''')                \n",
        "                    with gr.Row():\n",
        "                        input_image = gr.Image(label='Input Image',\n",
        "                                                       type='filepath')\n",
        "                    with gr.Row():\n",
        "                        preprocess_image_button = gr.Button('Rescale Image') \n",
        "                    with gr.Row():\n",
        "                        input_video = gr.Video(label='Input Video',\n",
        "                                               mirror_webcam=False,\n",
        "                                                      type='filepath')  \n",
        "                    with gr.Row():\n",
        "                        preprocess_video0_button = gr.Button('Rescale First Frame')\n",
        "                        preprocess_video1_button = gr.Button('Rescale Video')\n",
        "\n",
        "            with gr.Box():\n",
        "                with gr.Column():\n",
        "                    gr.Markdown('''View''')\n",
        "                    with gr.Row():\n",
        "                        input_info = gr.Textbox(label='Process Information', interactive=False, value='n.a.')\n",
        "                    with gr.Row():\n",
        "                        aligned_face = gr.Image(label='Rescaled Face',\n",
        "                                        type='numpy',\n",
        "                                        interactive=False)\n",
        "                        instyle = gr.Variable()\n",
        "                    with gr.Row():\n",
        "                        aligned_video = gr.Video(label='Rescaled Video',\n",
        "                                        type='mp4',\n",
        "                                        interactive=False)  \n",
        "        with gr.Row():\n",
        "            with gr.Column():\n",
        "                paths = ['./vtoonify/data/pexels-andrea-piacquadio-733872.jpg','./vtoonify/data/i5R8hbZFDdc.jpg','./vtoonify/data/yRpe13BHdKw.jpg','./vtoonify/data/ILip77SbmOE.jpg','./vtoonify/data/077436.jpg','./vtoonify/data/081680.jpg']\n",
        "                example_images = gr.Dataset(components=[input_image],\n",
        "                                        samples=[[path] for path in paths],\n",
        "                                           label='Image Examples')\n",
        "            with gr.Column():\n",
        "                #example_videos = gr.Dataset(components=[input_video], samples=[['./vtoonify/data/529.mp4']], type='values')\n",
        "                #to render video example on mouse hover/click        \n",
        "                example_videos.render()\n",
        "                #to load sample video into input_video upon clicking on it\n",
        "                def load_examples(video):  \n",
        "                    #print(\"****** inside load_example() ******\")\n",
        "                    #print(\"in_video is : \", video[0])\n",
        "                    return video[0]\n",
        "\n",
        "                example_videos.click(load_examples, example_videos, input_video) \n",
        "\n",
        "    with gr.Box():\n",
        "        gr.Markdown('''## Step 3 (Generate Style Transferred Image/Video)''')\n",
        "        with gr.Row():\n",
        "            with gr.Column():\n",
        "                gr.Markdown('''\n",
        "                    - Adjust **Style Degree**.\n",
        "                    - Hit **Toonify!** to toonify one frame. Hit **VToonify!** to toonify full video.\n",
        "                        - Estimated time on 1600x1440 video of 300 frames: 1 hour (CPU); 2 mins (GPU)\n",
        "                    ''')\n",
        "                style_degree = gr.Slider(0,\n",
        "                                         1,\n",
        "                                         value=0.5,\n",
        "                                         step=0.05,\n",
        "                                         label='Style Degree')  \n",
        "            with gr.Column():\n",
        "                gr.Markdown('''![example](https://raw.githubusercontent.com/williamyang1991/tmpfile/master/vtoonify/degree.jpg)\n",
        "                    ''')  \n",
        "        with gr.Row():\n",
        "            output_info = gr.Textbox(label='Process Information', interactive=False, value='n.a.')\n",
        "        with gr.Row():\n",
        "            with gr.Column():\n",
        "                with gr.Row():\n",
        "                    result_face = gr.Image(label='Result Image',\n",
        "                                        type='numpy',\n",
        "                                        interactive=False)\n",
        "                with gr.Row():\n",
        "                    toonify_button = gr.Button('Toonify!')\n",
        "            with gr.Column():\n",
        "                with gr.Row():\n",
        "                    result_video = gr.Video(label='Result Video',\n",
        "                                        type='mp4',\n",
        "                                        interactive=False)    \n",
        "                with gr.Row():\n",
        "                    vtoonify_button = gr.Button('VToonify!')\n",
        "\n",
        "    gr.Markdown(ARTICLE)\n",
        "    gr.Markdown(FOOTER)\n",
        "\n",
        "    loadmodel_button.click(fn=model.load_model,\n",
        "                            inputs=[style_type],\n",
        "                            outputs=[exstyle, load_info])\n",
        "\n",
        "\n",
        "    style_type.change(fn=update_slider,\n",
        "                      inputs=style_type,\n",
        "                      outputs=style_degree)\n",
        "\n",
        "    preprocess_image_button.click(fn=model.detect_and_align_image,\n",
        "                            inputs=[input_image, top, bottom, left, right],\n",
        "                            outputs=[aligned_face, instyle, input_info])\n",
        "    preprocess_video0_button.click(fn=model.detect_and_align_video,\n",
        "                            inputs=[input_video, top, bottom, left, right],\n",
        "                            outputs=[aligned_face, instyle, input_info])\n",
        "    preprocess_video1_button.click(fn=model.detect_and_align_full_video,\n",
        "                            inputs=[input_video, top, bottom, left, right],\n",
        "                            outputs=[aligned_video, instyle, input_info])\n",
        "\n",
        "    toonify_button.click(fn=model.image_toonify,\n",
        "                            inputs=[aligned_face, instyle, exstyle],\n",
        "                            outputs=[result_face, output_info])\n",
        "    vtoonify_button.click(fn=model.video_tooniy,\n",
        "                            inputs=[aligned_video, instyle, exstyle],\n",
        "                            outputs=[result_video, output_info])\n",
        "    example_images.click(fn=set_example_image,\n",
        "                                 inputs=example_images,\n",
        "                                 outputs=example_images.components)"
      ]
    },
    {
      "cell_type": "code",
      "execution_count": null,
      "metadata": {
        "id": "90dB2gmfgqOe"
      },
      "outputs": [],
      "source": [
        "# launch a web demo, best open the public URL and view on new web page\n",
        "demo.launch(\n",
        "    debug=True,\n",
        ")"
      ]
    },
    {
      "cell_type": "code",
      "execution_count": null,
      "metadata": {
        "colab": {
          "base_uri": "https://localhost:8080/"
        },
        "id": "s29j3OxJgrgs",
        "outputId": "82ec413c-40da-40bb-e235-792a46a3831e"
      },
      "outputs": [],
      "source": [
        "# you can close the web demo by running\n",
        "demo.close()"
      ]
    },
    {
      "cell_type": "markdown",
      "metadata": {
        "id": "KbWEFjJi8DRW"
      },
      "source": [
        "# PART II - Style Transfer with specialized VToonify-D model"
      ]
    },
    {
      "cell_type": "markdown",
      "metadata": {
        "id": "1WeAGqJOzwMT"
      },
      "source": [
        "code is mainly modified from [pixel2style2pixel](https://github.com/eladrich/pixel2style2pixel/blob/master/notebooks/inference_playground.ipynb)"
      ]
    },
    {
      "cell_type": "code",
      "execution_count": null,
      "metadata": {
        "id": "Uuviq3qQkUFy"
      },
      "outputs": [],
      "source": [
        "import os\n",
        "os.environ['CUDA_VISIBLE_DEVICES'] = \"0\"\n",
        "os.chdir('../')\n",
        "CODE_DIR = 'VToonify'\n",
        "device = 'cuda'"
      ]
    },
    {
      "cell_type": "code",
      "execution_count": null,
      "metadata": {
        "colab": {
          "base_uri": "https://localhost:8080/"
        },
        "id": "QQ6XEmlHlXbk",
        "outputId": "fe5e4e97-ff78-4c64-9047-3db7384702d8"
      },
      "outputs": [],
      "source": [
        "!git clone https://github.com/williamyang1991/VToonify.git $CODE_DIR"
      ]
    },
    {
      "cell_type": "code",
      "execution_count": null,
      "metadata": {
        "colab": {
          "base_uri": "https://localhost:8080/"
        },
        "id": "d3Hc2FYAzwMW",
        "outputId": "f7601a61-b08d-453e-f50d-f1ce17709368"
      },
      "outputs": [],
      "source": [
        "!wget https://github.com/ninja-build/ninja/releases/download/v1.8.2/ninja-linux.zip\n",
        "!sudo unzip ninja-linux.zip -d /usr/local/bin/\n",
        "!sudo update-alternatives --install /usr/bin/ninja ninja /usr/local/bin/ninja 1 --force \n",
        "!pip install wget"
      ]
    },
    {
      "cell_type": "code",
      "execution_count": null,
      "metadata": {
        "id": "23baccYQlU9E"
      },
      "outputs": [],
      "source": [
        "os.chdir(f'./{CODE_DIR}')\n",
        "MODEL_DIR = os.path.join(os.path.dirname(os.getcwd()), CODE_DIR, 'checkpoint')\n",
        "DATA_DIR = os.path.join(os.path.dirname(os.getcwd()), CODE_DIR, 'data')\n",
        "OUT_DIR = os.path.join(os.path.dirname(os.getcwd()), CODE_DIR, 'output')"
      ]
    },
    {
      "cell_type": "code",
      "execution_count": null,
      "metadata": {
        "id": "d13v7In0kTJn"
      },
      "outputs": [],
      "source": [
        "%load_ext autoreload\n",
        "%autoreload 2\n",
        "\n",
        "import sys\n",
        "sys.path.append(\".\")\n",
        "sys.path.append(\"..\")\n",
        "\n",
        "import argparse\n",
        "import numpy as np\n",
        "import cv2\n",
        "import dlib\n",
        "import torch\n",
        "from torchvision import transforms\n",
        "import torchvision\n",
        "import torch.nn.functional as F\n",
        "from tqdm import tqdm\n",
        "import matplotlib.pyplot as plt\n",
        "from model.vtoonify import VToonify\n",
        "from model.bisenet.model import BiSeNet\n",
        "from model.encoder.align_all_parallel import align_face\n",
        "from util import save_image, load_image, visualize, load_psp_standalone, get_video_crop_parameter, tensor2cv2"
      ]
    },
    {
      "cell_type": "code",
      "execution_count": null,
      "metadata": {
        "id": "KSnjlBZOkTJ0"
      },
      "outputs": [],
      "source": [
        "def get_download_model_command(file_id, file_name):\n",
        "    \"\"\" Get wget download command for downloading the desired model and save to directory ../checkpoint/. \"\"\"\n",
        "    current_directory = os.getcwd()\n",
        "    save_path = MODEL_DIR\n",
        "    if not os.path.exists(save_path):\n",
        "        os.makedirs(save_path)\n",
        "    url = r\"\"\"wget --load-cookies /tmp/cookies.txt \"https://docs.google.com/uc?export=download&confirm=$(wget --quiet --save-cookies /tmp/cookies.txt --keep-session-cookies --no-check-certificate 'https://docs.google.com/uc?export=download&id={FILE_ID}' -O- | sed -rn 's/.*confirm=([0-9A-Za-z_]+).*/\\1\\n/p')&id={FILE_ID}\" -O {SAVE_PATH}/{FILE_NAME} && rm -rf /tmp/cookies.txt\"\"\".format(FILE_ID=file_id, FILE_NAME=file_name, SAVE_PATH=save_path)\n",
        "    return url\n",
        "\n",
        "MODEL_PATHS = {\n",
        "    \"encoder\": {\"id\": \"1NgI4mPkboYvYw3MWcdUaQhkr0OWgs9ej\", \"name\": \"encoder.pt\"},\n",
        "    \"faceparsing\": {\"id\": \"1jY0mTjVB8njDh6e0LP_2UxuRK3MnjoIR\", \"name\": \"faceparsing.pth\"},\n",
        "    \"arcane_exstyle\": {\"id\": \"1TC67wRJkdmNRZTqYMUEFkrhWRKKZW40c\", \"name\": \"exstyle_code.npy\"},\n",
        "    \"caricature_exstyle\": {\"id\": \"1xr9sx_WmRYJ4qHGTtdVQCSxSo4HP3-ip\", \"name\": \"exstyle_code.npy\"},\n",
        "    \"cartoon_exstyle\": {\"id\": \"1BuCeLk3ASZcoHlbfT28qNru4r5f-hErr\", \"name\": \"exstyle_code.npy\"},\n",
        "    \"pixar_exstyle\": {\"id\": \"1yTaKuSrL7I0i0RYEEK5XD6GI-y5iNUbj\", \"name\": \"exstyle_code.npy\"},\n",
        "    \"arcane000\": {\"id\": \"1pF4fJ8acmawMsjjXo4HXRIOXeZR8jLVh\", \"name\": \"generator.pt\"},\n",
        "    \"arcane077\": {\"id\": \"16rLTF2oC0ZeurnM6hjrfrc8BxtW8P8Qf\", \"name\": \"generator.pt\"},\n",
        "    \"caricature039\": {\"id\": \"1C1E4WEoDWzl0nAxR9okKffFmlMOENbeF\", \"name\": \"generator.pt\"},\n",
        "    \"caricature068\": {\"id\": \"1B1ko1x8fX2aJ4BYCL12AnknVAi3qQc8W\", \"name\": \"generator.pt\"},\n",
        "    \"cartoon026\": {\"id\": \"1YJYODh_vEyUrL0q02okjcicpJhdYY8An\", \"name\": \"generator.pt\"},\n",
        "    \"cartoon299\": {\"id\": \"101qMUMfcI2qDxEbfCBt5mOg2aSqdTaIt\", \"name\": \"generator.pt\"},\n",
        "    \"pixar052\": {\"id\": \"16j_l1x0DD0PjwO8YdplAk69sh3-v95rr\", \"name\": \"generator.pt\"},\n",
        "    \"cartoon\": {\"id\": \"11s0hwhZWTLacMAzZH4OU-o3Qkp54h30J\", \"name\": \"generator.pt\"},\n",
        "}"
      ]
    },
    {
      "cell_type": "code",
      "execution_count": null,
      "metadata": {
        "id": "YFJJLLP5zwMZ"
      },
      "outputs": [],
      "source": [
        "%matplotlib inline"
      ]
    },
    {
      "cell_type": "markdown",
      "metadata": {
        "id": "HRjtz6uLkTJs"
      },
      "source": [
        "## Step 1: Select Style Type"
      ]
    },
    {
      "cell_type": "code",
      "execution_count": null,
      "metadata": {
        "colab": {
          "base_uri": "https://localhost:8080/",
          "height": 75
        },
        "id": "EaetIVq8zwMa",
        "outputId": "ed174789-f1d2-4849-d9fb-2b9f63ecb90c"
      },
      "outputs": [],
      "source": [
        "#@title Select a style type { run: \"auto\", vertical-output: true, display-mode: \"both\" }\n",
        "style_type = \"cartoon026\" #@param [\"cartoon026\", \"cartoon299\", \"arcane000\", \"arcane077\", \"pixar052\", \"caricature039\", \"caricature068\"]\n",
        "\n",
        "\"\"\"\n",
        "cartoon026:      balanced \n",
        "cartoon299:      big eyes \n",
        "arcane000:       for female \n",
        "arcane077:       for male \n",
        "pixar052:                  \n",
        "caricature039:   big mouth \n",
        "caricature068:   balanced  \n",
        "\"\"\"\n"
      ]
    },
    {
      "cell_type": "markdown",
      "metadata": {
        "id": "4etDz82xkTJz"
      },
      "source": [
        "## Step 2: Download Pretrained Models \n",
        "As part of this repository, we provide pretrained models. We'll download the model and save them to the folder `../checkpoint/`."
      ]
    },
    {
      "cell_type": "code",
      "execution_count": null,
      "metadata": {
        "colab": {
          "base_uri": "https://localhost:8080/"
        },
        "id": "qLLXjePvzwMb",
        "outputId": "fe2fab57-bff2-4156-d54c-790952881b02"
      },
      "outputs": [],
      "source": [
        "# download pSp encoder and face parsinf network\n",
        "path = MODEL_PATHS[\"encoder\"]\n",
        "download_command = get_download_model_command(file_id=path[\"id\"], file_name=path[\"name\"])\n",
        "!{download_command}\n",
        "path = MODEL_PATHS[\"faceparsing\"]\n",
        "download_command = get_download_model_command(file_id=path[\"id\"], file_name=path[\"name\"])\n",
        "!{download_command}"
      ]
    },
    {
      "cell_type": "code",
      "execution_count": null,
      "metadata": {
        "colab": {
          "base_uri": "https://localhost:8080/"
        },
        "id": "jQ31J_m7kTJ8",
        "outputId": "f2736f07-ab11-43b7-db99-c6f9b4b7b9a8"
      },
      "outputs": [],
      "source": [
        "# download vtoonify\n",
        "path = MODEL_PATHS[style_type]\n",
        "download_command = get_download_model_command(file_id=path[\"id\"], file_name = style_type + '_' + path[\"name\"])\n",
        "!{download_command}\n",
        "# download extrinsic style code\n",
        "path = MODEL_PATHS[style_type[:-3]+'_exstyle']\n",
        "download_command = get_download_model_command(file_id=path[\"id\"], file_name = style_type[:-3] + '_' + path[\"name\"])\n",
        "!{download_command}"
      ]
    },
    {
      "cell_type": "markdown",
      "metadata": {
        "id": "TAWrUehTkTKJ"
      },
      "source": [
        "## Step 3: Load Pretrained Model\n",
        "We assume that you have downloaded all relevant models and placed them in the directory defined by the above dictionary."
      ]
    },
    {
      "cell_type": "code",
      "execution_count": null,
      "metadata": {
        "colab": {
          "base_uri": "https://localhost:8080/",
          "height": 88,
          "referenced_widgets": [
            "27cc0e8bb06c449eae8a5c19a1b5443c",
            "8883be0dbcd5406cb3039a1c7ed1baee",
            "9f287844f6224bc9b30231cf5b8c7066",
            "95b2e358d37a45f8b924918aa2b43f80",
            "70ad9c0b109d4afd914b26c8883a0cd3",
            "ae6fc2bc2c1e438d9f072c5cc47cb4c0",
            "55fe600c052647348bcda9158af449e8",
            "8347edb38e3f41c5bffd4e4401e5e680",
            "b3de1b939a484f05a7b77413bedb2a47",
            "ba1a3c50e05c4015a93ef005db1c2fa3",
            "38ad9bc1e72247938329691a24fa3198"
          ]
        },
        "id": "tBgNcA7XzwMb",
        "outputId": "f87e2ca0-abc6-4347-9c88-2bbef4e2fe4e"
      },
      "outputs": [],
      "source": [
        "transform = transforms.Compose([\n",
        "    transforms.ToTensor(),\n",
        "    transforms.Normalize(mean=[0.5, 0.5, 0.5],std=[0.5,0.5,0.5]),\n",
        "    ])\n",
        "\n",
        "vtoonify = VToonify(backbone = 'dualstylegan')\n",
        "vtoonify.load_state_dict(torch.load(os.path.join(MODEL_DIR, style_type+'_generator.pt'), map_location=lambda storage, loc: storage)['g_ema'])\n",
        "vtoonify.to(device)\n",
        "\n",
        "parsingpredictor = BiSeNet(n_classes=19)\n",
        "parsingpredictor.load_state_dict(torch.load(os.path.join(MODEL_DIR, 'faceparsing.pth'), map_location=lambda storage, loc: storage))\n",
        "parsingpredictor.to(device).eval()\n",
        "\n",
        "modelname = './checkpoint/shape_predictor_68_face_landmarks.dat'\n",
        "if not os.path.exists(modelname):\n",
        "    import wget, bz2\n",
        "    wget.download('http://dlib.net/files/shape_predictor_68_face_landmarks.dat.bz2', modelname+'.bz2')\n",
        "    zipfile = bz2.BZ2File(modelname+'.bz2')\n",
        "    data = zipfile.read()\n",
        "    open(modelname, 'wb').write(data) \n",
        "landmarkpredictor = dlib.shape_predictor(modelname)\n",
        "\n",
        "pspencoder = load_psp_standalone(os.path.join(MODEL_DIR, 'encoder.pt'), device)    \n",
        "\n",
        "exstyles = np.load(os.path.join(MODEL_DIR, style_type[:-3]+'_exstyle_code.npy'), allow_pickle='TRUE').item()\n",
        "stylename = list(exstyles.keys())[int(style_type[-3:])]\n",
        "exstyle = torch.tensor(exstyles[stylename]).to(device)\n",
        "with torch.no_grad():  \n",
        "    exstyle = vtoonify.zplus2wplus(exstyle)\n",
        "    \n",
        "print('Model successfully loaded!')"
      ]
    },
    {
      "cell_type": "markdown",
      "metadata": {
        "id": "4weLFoPbkTKZ"
      },
      "source": [
        "## Step 4: Image Toonification"
      ]
    },
    {
      "cell_type": "markdown",
      "metadata": {
        "id": "o6oqf8JwzK0K"
      },
      "source": [
        "### Visualize and Rescale Input\n",
        "We rescale the input image to make it fit our pre-trained model"
      ]
    },
    {
      "cell_type": "code",
      "execution_count": null,
      "metadata": {
        "id": "r2H9zFLJkTKa"
      },
      "outputs": [],
      "source": [
        "image_path = './data/077436.jpg'\n",
        "original_image = load_image(image_path)"
      ]
    },
    {
      "cell_type": "code",
      "execution_count": null,
      "metadata": {
        "colab": {
          "base_uri": "https://localhost:8080/",
          "height": 197
        },
        "id": "-lbLKtl-kTKc",
        "outputId": "857fbb7f-024a-4f4d-bfce-97bca428743d"
      },
      "outputs": [],
      "source": [
        "visualize(original_image[0], 30)"
      ]
    },
    {
      "cell_type": "code",
      "execution_count": null,
      "metadata": {
        "id": "hJ9Ce1aYzmFF"
      },
      "outputs": [],
      "source": [
        "frame = cv2.imread(image_path)\n",
        "frame = cv2.cvtColor(frame, cv2.COLOR_RGB2BGR)\n",
        "\n",
        "scale = 1\n",
        "kernel_1d = np.array([[0.125],[0.375],[0.375],[0.125]])\n",
        "# We detect the face in the image, and resize the image so that the eye distance is 64 pixels.\n",
        "# Centered on the eyes, we crop the image to almost 400x400 (based on args.padding).\n",
        "paras = get_video_crop_parameter(frame, landmarkpredictor, padding=[200,200,200,200])\n",
        "if paras is not None:\n",
        "    h,w,top,bottom,left,right,scale = paras\n",
        "    H, W = int(bottom-top), int(right-left)\n",
        "    # for HR image, we apply gaussian blur to it to avoid over-sharp stylization results\n",
        "    if scale <= 0.75:\n",
        "        frame = cv2.sepFilter2D(frame, -1, kernel_1d, kernel_1d)\n",
        "    if scale <= 0.375:\n",
        "        frame = cv2.sepFilter2D(frame, -1, kernel_1d, kernel_1d)\n",
        "    frame = cv2.resize(frame, (w, h))[top:bottom, left:right]\n",
        "    x = transform(frame).unsqueeze(dim=0).to(device)\n",
        "else:\n",
        "    print('no face detected!')"
      ]
    },
    {
      "cell_type": "code",
      "execution_count": null,
      "metadata": {
        "colab": {
          "base_uri": "https://localhost:8080/",
          "height": 213
        },
        "id": "hUBAfodh5PaM",
        "outputId": "7c2a418e-2499-49e4-9bf8-c18b7e141e07"
      },
      "outputs": [],
      "source": [
        "visualize(x[0].cpu(), 30)"
      ]
    },
    {
      "cell_type": "markdown",
      "metadata": {
        "id": "D0BmXzu1kTKg"
      },
      "source": [
        "### Perform Inference"
      ]
    },
    {
      "cell_type": "code",
      "execution_count": null,
      "metadata": {
        "colab": {
          "base_uri": "https://localhost:8080/"
        },
        "id": "gnCKxP8FzwMd",
        "outputId": "985ee073-355b-4d1e-843a-9b20c5403256"
      },
      "outputs": [],
      "source": [
        "with torch.no_grad():\n",
        "    I = align_face(frame, landmarkpredictor)\n",
        "    I = transform(I).unsqueeze(dim=0).to(device)\n",
        "    s_w = pspencoder(I)\n",
        "    s_w = vtoonify.zplus2wplus(s_w)\n",
        "    s_w[:,:7] = exstyle[:,:7]\n",
        "    # parsing network works best on 512x512 images, so we predict parsing maps on upsmapled frames\n",
        "    # followed by downsampling the parsing maps\n",
        "    x_p = F.interpolate(parsingpredictor(2*(F.interpolate(x, scale_factor=2, mode='bilinear', align_corners=False)))[0], \n",
        "                        scale_factor=0.5, recompute_scale_factor=False).detach()\n",
        "    # we give parsing maps lower weight (1/16)\n",
        "    inputs = torch.cat((x, x_p/16.), dim=1)\n",
        "    # d_s has no effect when backbone is toonify\n",
        "    y_tilde = vtoonify(inputs, s_w.repeat(inputs.size(0), 1, 1), d_s = 0.5)        \n",
        "    y_tilde = torch.clamp(y_tilde, -1, 1)"
      ]
    },
    {
      "cell_type": "code",
      "execution_count": null,
      "metadata": {
        "colab": {
          "base_uri": "https://localhost:8080/",
          "height": 410
        },
        "id": "dYzQZT8czwMe",
        "outputId": "813760e9-43d9-4845-b61f-1ebfdfbf8e09"
      },
      "outputs": [],
      "source": [
        "visualize(y_tilde[0].cpu(), 60)"
      ]
    },
    {
      "cell_type": "markdown",
      "metadata": {
        "id": "sjCvUNrWzwMe"
      },
      "source": [
        "## Step 5: Video Toonification"
      ]
    },
    {
      "cell_type": "markdown",
      "metadata": {
        "id": "AbsH8H3nzwMe"
      },
      "source": [
        "### Visualize and Rescale Input\n",
        "We rescale the input video to make it fit our pre-trained model"
      ]
    },
    {
      "cell_type": "code",
      "execution_count": null,
      "metadata": {
        "id": "7V38qIi7zwMe"
      },
      "outputs": [],
      "source": [
        "video_path = './data/529.mp4'\n",
        "video_cap = cv2.VideoCapture(video_path)\n",
        "num = int(video_cap.get(7))"
      ]
    },
    {
      "cell_type": "code",
      "execution_count": null,
      "metadata": {
        "id": "RWG8-hsAzwMe"
      },
      "outputs": [],
      "source": [
        "success, frame = video_cap.read()\n",
        "if success == False:\n",
        "    assert('load video frames error')\n",
        "frame = cv2.cvtColor(frame, cv2.COLOR_BGR2RGB)"
      ]
    },
    {
      "cell_type": "code",
      "execution_count": null,
      "metadata": {
        "colab": {
          "base_uri": "https://localhost:8080/",
          "height": 236
        },
        "id": "Kec029XTzwMf",
        "outputId": "c2d9cd92-b90c-4dff-dc65-ff2f0d39d9c2"
      },
      "outputs": [],
      "source": [
        "visualize(transform(frame), 30)"
      ]
    },
    {
      "cell_type": "code",
      "execution_count": null,
      "metadata": {
        "id": "w9FAXp2xzwMf"
      },
      "outputs": [],
      "source": [
        "scale = 1\n",
        "kernel_1d = np.array([[0.125],[0.375],[0.375],[0.125]])\n",
        "# We proprocess the video by detecting the face in the first frame, \n",
        "# and resizing the frame so that the eye distance is 64 pixels.\n",
        "# Centered on the eyes, we crop the first frame to almost 400x400 (based on args.padding).\n",
        "# All other frames use the same resizing and cropping parameters as the first frame.\n",
        "paras = get_video_crop_parameter(frame, landmarkpredictor, padding=[200,200,200,200])\n",
        "if paras is None:\n",
        "    print('no face detected!')\n",
        "else:\n",
        "    h,w,top,bottom,left,right,scale = paras\n",
        "    H, W = int(bottom-top), int(right-left)\n",
        "# for HR video, we apply gaussian blur to the frames to avoid flickers caused by bilinear downsampling\n",
        "# this can also prevent over-sharp stylization results. \n",
        "if scale <= 0.75:\n",
        "    frame = cv2.sepFilter2D(frame, -1, kernel_1d, kernel_1d)\n",
        "if scale <= 0.375:\n",
        "    frame = cv2.sepFilter2D(frame, -1, kernel_1d, kernel_1d)\n",
        "frame = cv2.resize(frame, (w, h))[top:bottom, left:right]"
      ]
    },
    {
      "cell_type": "code",
      "execution_count": null,
      "metadata": {
        "colab": {
          "base_uri": "https://localhost:8080/",
          "height": 236
        },
        "id": "xGA_os5gzwMf",
        "outputId": "f0fcb5eb-5d90-46c6-912d-44ead8260513"
      },
      "outputs": [],
      "source": [
        "visualize(transform(frame), 30)"
      ]
    },
    {
      "cell_type": "markdown",
      "metadata": {
        "id": "XF_Uk0lKzwMf"
      },
      "source": [
        "### Perform Inference"
      ]
    },
    {
      "cell_type": "code",
      "execution_count": null,
      "metadata": {
        "id": "HG1FxtPzzwMf"
      },
      "outputs": [],
      "source": [
        "fourcc = cv2.VideoWriter_fourcc(*'mp4v')\n",
        "videoWriter = cv2.VideoWriter(os.path.join(OUT_DIR, 'result.mp4'), fourcc, video_cap.get(5), (4*W, 4*H))\n",
        "batch_size = 4"
      ]
    },
    {
      "cell_type": "code",
      "execution_count": null,
      "metadata": {
        "colab": {
          "base_uri": "https://localhost:8080/"
        },
        "id": "30bmxfpbzwMf",
        "outputId": "351ae980-5d95-4255-bc54-072267c2ce42"
      },
      "outputs": [],
      "source": [
        "with torch.no_grad():\n",
        "    batch_frames = []\n",
        "    for i in tqdm(range(num)):\n",
        "        if i == 0:        \n",
        "            I = align_face(frame, landmarkpredictor)\n",
        "            I = transform(I).unsqueeze(dim=0).to(device)\n",
        "            s_w = pspencoder(I)\n",
        "            s_w = vtoonify.zplus2wplus(s_w)\n",
        "            s_w[:,:7] = exstyle[:,:7]\n",
        "        else:\n",
        "            success, frame = video_cap.read()\n",
        "            frame = cv2.cvtColor(frame, cv2.COLOR_BGR2RGB)\n",
        "            if scale <= 0.75:\n",
        "                frame = cv2.sepFilter2D(frame, -1, kernel_1d, kernel_1d)\n",
        "            if scale <= 0.375:\n",
        "                frame = cv2.sepFilter2D(frame, -1, kernel_1d, kernel_1d)\n",
        "            frame = cv2.resize(frame, (w, h))[top:bottom, left:right]\n",
        "\n",
        "        batch_frames += [transform(frame).unsqueeze(dim=0).to(device)]\n",
        "\n",
        "        if len(batch_frames) == batch_size or (i+1) == num:\n",
        "            x = torch.cat(batch_frames, dim=0)\n",
        "            batch_frames = []\n",
        "            # parsing network works best on 512x512 images, so we predict parsing maps on upsmapled frames\n",
        "            # followed by downsampling the parsing maps\n",
        "            x_p = F.interpolate(parsingpredictor(2*(F.interpolate(x, scale_factor=2, mode='bilinear', align_corners=False)))[0], \n",
        "                            scale_factor=0.5, recompute_scale_factor=False).detach()\n",
        "            # we give parsing maps lower weight (1/16)\n",
        "            inputs = torch.cat((x, x_p/16.), dim=1)\n",
        "            # d_s has no effect when backbone is toonify\n",
        "            y_tilde = vtoonify(inputs, s_w.repeat(inputs.size(0), 1, 1), d_s = 0.5)       \n",
        "            y_tilde = torch.clamp(y_tilde, -1, 1)\n",
        "            for k in range(y_tilde.size(0)):\n",
        "                videoWriter.write(tensor2cv2(y_tilde[k].cpu()))\n",
        "videoWriter.release()\n",
        "video_cap.release()"
      ]
    },
    {
      "cell_type": "code",
      "execution_count": null,
      "metadata": {
        "colab": {
          "base_uri": "https://localhost:8080/",
          "height": 895
        },
        "id": "SJeDEh-TzwMg",
        "outputId": "92ba905a-8366-4f10-d690-c15976ee96f6"
      },
      "outputs": [],
      "source": [
        "viz = torchvision.utils.make_grid(y_tilde, 2, 2)\n",
        "visualize(viz.cpu(), 120)"
      ]
    },
    {
      "cell_type": "markdown",
      "metadata": {
        "id": "aF3boImzzwMg"
      },
      "source": [
        "### Find the stylized video in `./output/result.mp4`"
      ]
    },
    {
      "cell_type": "markdown",
      "metadata": {
        "id": "Dt9fQiLozwMg"
      },
      "source": [
        "# PART III - Style control with VToonify-Dsd model"
      ]
    },
    {
      "cell_type": "markdown",
      "metadata": {
        "id": "2hWqNQHOzwMg"
      },
      "source": [
        "## Step 1: Download Pretrained Models \n",
        "As part of this repository, we provide pretrained models. We'll download the model and save them to the folder `../checkpoint/`."
      ]
    },
    {
      "cell_type": "code",
      "execution_count": null,
      "metadata": {
        "id": "W1UVTjmVzwMh"
      },
      "outputs": [],
      "source": [
        "# if you haved downloaded the encoder and faceparsing model in PART I, skip this step\n",
        "if False:\n",
        "    path = MODEL_PATHS[\"encoder\"]\n",
        "    download_command = get_download_model_command(file_id=path[\"id\"], file_name=path[\"name\"])\n",
        "    !{download_command}\n",
        "    path = MODEL_PATHS[\"faceparsing\"]\n",
        "    download_command = get_download_model_command(file_id=path[\"id\"], file_name=path[\"name\"])\n",
        "    !{download_command}"
      ]
    },
    {
      "cell_type": "code",
      "execution_count": null,
      "metadata": {
        "colab": {
          "base_uri": "https://localhost:8080/"
        },
        "id": "R49HXW3KzwMh",
        "outputId": "821d2af8-ef42-4e68-f9c0-aa7149bf1061"
      },
      "outputs": [],
      "source": [
        "# download the style code and the vtoonify-Dsd\n",
        "path = MODEL_PATHS['cartoon_exstyle']\n",
        "download_command = get_download_model_command(file_id=path[\"id\"], file_name = 'cartoon_exstyle_code.npy')\n",
        "!{download_command}\n",
        "path = MODEL_PATHS['cartoon']\n",
        "download_command = get_download_model_command(file_id=path[\"id\"], file_name = 'cartoon_generator.pt')\n",
        "!{download_command}"
      ]
    },
    {
      "cell_type": "markdown",
      "metadata": {
        "id": "Ju-b8ivNzwMh"
      },
      "source": [
        "## Step 2: Load Pretrained Model\n",
        "We assume that you have downloaded all relevant models and placed them in the directory defined by the above dictionary."
      ]
    },
    {
      "cell_type": "code",
      "execution_count": null,
      "metadata": {
        "colab": {
          "base_uri": "https://localhost:8080/"
        },
        "id": "3FRjygi8zwMh",
        "outputId": "1da25a63-1bed-420f-a5ee-8ad35a260876"
      },
      "outputs": [],
      "source": [
        "# if you haved load the models in PART I, skip this step, or set False to True\n",
        "if True:\n",
        "    transform = transforms.Compose([\n",
        "        transforms.ToTensor(),\n",
        "        transforms.Normalize(mean=[0.5, 0.5, 0.5],std=[0.5,0.5,0.5]),\n",
        "        ])\n",
        "\n",
        "    parsingpredictor = BiSeNet(n_classes=19)\n",
        "    parsingpredictor.load_state_dict(torch.load(os.path.join(MODEL_DIR, 'faceparsing.pth'), map_location=lambda storage, loc: storage))\n",
        "    parsingpredictor.to(device).eval()\n",
        "\n",
        "    modelname = './checkpoint/shape_predictor_68_face_landmarks.dat'\n",
        "    if not os.path.exists(modelname):\n",
        "        wget.download('http://dlib.net/files/shape_predictor_68_face_landmarks.dat.bz2', modelname+'.bz2')\n",
        "        zipfile = bz2.BZ2File(modelname+'.bz2')\n",
        "        data = zipfile.read()\n",
        "        open(modelname, 'wb').write(data) \n",
        "    landmarkpredictor = dlib.shape_predictor(modelname)\n",
        "\n",
        "    pspencoder = load_psp_standalone(os.path.join(MODEL_DIR, 'encoder.pt'), device)    \n",
        "    \n",
        "vtoonify = VToonify(backbone = 'dualstylegan')\n",
        "vtoonify.load_state_dict(torch.load(os.path.join(MODEL_DIR, 'cartoon_generator.pt'), map_location=lambda storage, loc: storage)['g_ema'])\n",
        "vtoonify.to(device)\n",
        "\n",
        "exstyles = np.load(os.path.join(MODEL_DIR, 'cartoon_exstyle_code.npy'), allow_pickle='TRUE').item()  \n",
        "styles = []\n",
        "with torch.no_grad(): \n",
        "    for stylename in exstyles.keys():\n",
        "        exstyle = torch.tensor(exstyles[stylename]).to(device)\n",
        "        exstyle = vtoonify.zplus2wplus(exstyle)\n",
        "        styles += [exstyle]\n",
        "exstyles = torch.cat(styles, dim=0)\n",
        "    \n",
        "print('Model successfully loaded!')"
      ]
    },
    {
      "cell_type": "markdown",
      "metadata": {
        "id": "skayaztpzwMh"
      },
      "source": [
        "## Step 3: Image Toonification"
      ]
    },
    {
      "cell_type": "markdown",
      "metadata": {
        "id": "VYcmhop8zwMh"
      },
      "source": [
        "### Visualize and Rescale Input\n",
        "We rescale the input image to make it fit our pre-trained model"
      ]
    },
    {
      "cell_type": "code",
      "execution_count": null,
      "metadata": {
        "id": "K9x591jNzwMi"
      },
      "outputs": [],
      "source": [
        "image_path = './data/077436.jpg'\n",
        "original_image = load_image(image_path)"
      ]
    },
    {
      "cell_type": "code",
      "execution_count": null,
      "metadata": {
        "colab": {
          "base_uri": "https://localhost:8080/",
          "height": 197
        },
        "id": "TKXXNqekzwMi",
        "outputId": "731477e0-031a-4781-f6c3-b2e730fb5075"
      },
      "outputs": [],
      "source": [
        "visualize(original_image[0], 30)"
      ]
    },
    {
      "cell_type": "code",
      "execution_count": null,
      "metadata": {
        "id": "96d102HjzwMi"
      },
      "outputs": [],
      "source": [
        "frame = cv2.imread(image_path)\n",
        "frame = cv2.cvtColor(frame, cv2.COLOR_RGB2BGR)\n",
        "\n",
        "scale = 1\n",
        "kernel_1d = np.array([[0.125],[0.375],[0.375],[0.125]])\n",
        "# We detect the face in the image, and resize the image so that the eye distance is 64 pixels.\n",
        "# Centered on the eyes, we crop the image to almost 400x400 (based on args.padding).\n",
        "paras = get_video_crop_parameter(frame, landmarkpredictor, padding=[200,200,200,200])\n",
        "if paras is not None:\n",
        "    h,w,top,bottom,left,right,scale = paras\n",
        "    H, W = int(bottom-top), int(right-left)\n",
        "    # for HR image, we apply gaussian blur to it to avoid over-sharp stylization results\n",
        "    if scale <= 0.75:\n",
        "        frame = cv2.sepFilter2D(frame, -1, kernel_1d, kernel_1d)\n",
        "    if scale <= 0.375:\n",
        "        frame = cv2.sepFilter2D(frame, -1, kernel_1d, kernel_1d)\n",
        "    frame = cv2.resize(frame, (w, h))[top:bottom, left:right]\n",
        "    x = transform(frame).unsqueeze(dim=0).to(device)\n",
        "else:\n",
        "    print('no face detected!')"
      ]
    },
    {
      "cell_type": "code",
      "execution_count": null,
      "metadata": {
        "colab": {
          "base_uri": "https://localhost:8080/",
          "height": 213
        },
        "id": "uW8sPnwkzwMi",
        "outputId": "ff20640b-48eb-4613-83ba-5dbf77f2857c"
      },
      "outputs": [],
      "source": [
        "visualize(x[0].cpu(), 30)"
      ]
    },
    {
      "cell_type": "markdown",
      "metadata": {
        "id": "-iMk0ZuazwMi"
      },
      "source": [
        "### Select style image\n",
        "\n",
        "Select the style index (the mapping between index and style image is defined [here](https://github.com/williamyang1991/DualStyleGAN/blob/main/doc_images/cartoon_overview.jpg))"
      ]
    },
    {
      "cell_type": "code",
      "execution_count": null,
      "metadata": {
        "id": "o3IfNjdHzwMi"
      },
      "outputs": [],
      "source": [
        "style_id = [8, 26, 64, 153, 299]"
      ]
    },
    {
      "cell_type": "markdown",
      "metadata": {
        "id": "4AhjbJJ1zwMj"
      },
      "source": [
        "### Style transfer with different cartoon structure styles"
      ]
    },
    {
      "cell_type": "code",
      "execution_count": null,
      "metadata": {
        "id": "v5POMJ5YkTKl"
      },
      "outputs": [],
      "source": [
        "with torch.no_grad():\n",
        "    I = align_face(frame, landmarkpredictor)\n",
        "    I = transform(I).unsqueeze(dim=0).to(device)\n",
        "    s_w = pspencoder(I)\n",
        "    s_w = vtoonify.zplus2wplus(s_w).repeat(len(style_id), 1, 1)\n",
        "    s_w[:,:7] = exstyles[style_id,:7]\n",
        "    x = x.repeat(len(style_id), 1, 1, 1)\n",
        "    # parsing network works best on 512x512 images, so we predict parsing maps on upsmapled frames\n",
        "    # followed by downsampling the parsing maps\n",
        "    x_p = F.interpolate(parsingpredictor(2*(F.interpolate(x, scale_factor=2, mode='bilinear', align_corners=False)))[0], \n",
        "                        scale_factor=0.5, recompute_scale_factor=False).detach()\n",
        "    # we give parsing maps lower weight (1/16)\n",
        "    inputs = torch.cat((x, x_p/16.), dim=1)\n",
        "    # d_s has no effect when backbone is toonify\n",
        "    y_tilde = vtoonify(inputs, s_w, d_s = 0.6)        \n",
        "    y_tilde = torch.clamp(y_tilde, -1, 1)"
      ]
    },
    {
      "cell_type": "code",
      "execution_count": null,
      "metadata": {
        "colab": {
          "base_uri": "https://localhost:8080/",
          "height": 193
        },
        "id": "UsHq90J1zwMj",
        "outputId": "b451de3a-1863-4fd0-a599-45fcf71e43b4"
      },
      "outputs": [],
      "source": [
        "viz = torchvision.utils.make_grid(y_tilde, 5, 2)\n",
        "visualize(viz.cpu(), 120)"
      ]
    },
    {
      "cell_type": "markdown",
      "metadata": {
        "id": "8HJ-gtKrzwMj"
      },
      "source": [
        "### Navigation with different style degree to achieve flexible style manipulation\n",
        "\n",
        "Users are suggested to try different style degrees to find the ideal results"
      ]
    },
    {
      "cell_type": "code",
      "execution_count": null,
      "metadata": {
        "id": "3Q9nk7M0zwMj"
      },
      "outputs": [],
      "source": [
        "results = []\n",
        "with torch.no_grad():\n",
        "    for i in range(5):\n",
        "        d_s = i / 4.0\n",
        "        y_tilde = vtoonify(inputs, s_w, d_s = d_s)  \n",
        "        y_tilde = torch.clamp(y_tilde, -1, 1)\n",
        "        results += [y_tilde.cpu()]"
      ]
    },
    {
      "cell_type": "code",
      "execution_count": null,
      "metadata": {
        "colab": {
          "base_uri": "https://localhost:8080/",
          "height": 803
        },
        "id": "qMC8_NkuALeF",
        "outputId": "779f1220-3591-46f4-cc57-40de18b6145d"
      },
      "outputs": [],
      "source": [
        "vis = torchvision.utils.make_grid(torch.cat(results, dim=0), 5, 2)\n",
        "visualize(vis, 120)"
      ]
    }
  ],
  "metadata": {
    "accelerator": "GPU",
    "colab": {
      "collapsed_sections": [
        "aF3boImzzwMg"
      ],
      "provenance": []
    },
    "kernelspec": {
      "display_name": "psp_env",
      "language": "python",
      "name": "psp_env"
    },
    "language_info": {
      "codemirror_mode": {
        "name": "ipython",
        "version": 3
      },
      "file_extension": ".py",
      "mimetype": "text/x-python",
      "name": "python",
      "nbconvert_exporter": "python",
      "pygments_lexer": "ipython3",
      "version": "3.8.3"
    },
    "widgets": {
      "application/vnd.jupyter.widget-state+json": {
        "0233d2cbd94f42389554b9c0d76a136e": {
          "model_module": "@jupyter-widgets/controls",
          "model_module_version": "1.5.0",
          "model_name": "DescriptionStyleModel",
          "state": {
            "_model_module": "@jupyter-widgets/controls",
            "_model_module_version": "1.5.0",
            "_model_name": "DescriptionStyleModel",
            "_view_count": null,
            "_view_module": "@jupyter-widgets/base",
            "_view_module_version": "1.2.0",
            "_view_name": "StyleView",
            "description_width": ""
          }
        },
        "070e5e078f2245319ac8803ad025f379": {
          "model_module": "@jupyter-widgets/controls",
          "model_module_version": "1.5.0",
          "model_name": "HTMLModel",
          "state": {
            "_dom_classes": [],
            "_model_module": "@jupyter-widgets/controls",
            "_model_module_version": "1.5.0",
            "_model_name": "HTMLModel",
            "_view_count": null,
            "_view_module": "@jupyter-widgets/controls",
            "_view_module_version": "1.5.0",
            "_view_name": "HTMLView",
            "description": "",
            "description_tooltip": null,
            "layout": "IPY_MODEL_ae36bdd710d249c3aea9df81f3697ec7",
            "placeholder": "​",
            "style": "IPY_MODEL_95d233eae4d24eac805f75e5eec244f2",
            "value": "Downloading: 100%"
          }
        },
        "07bdc302e8dc4b1caa085031dd41851f": {
          "model_module": "@jupyter-widgets/controls",
          "model_module_version": "1.5.0",
          "model_name": "HTMLModel",
          "state": {
            "_dom_classes": [],
            "_model_module": "@jupyter-widgets/controls",
            "_model_module_version": "1.5.0",
            "_model_name": "HTMLModel",
            "_view_count": null,
            "_view_module": "@jupyter-widgets/controls",
            "_view_module_version": "1.5.0",
            "_view_name": "HTMLView",
            "description": "",
            "description_tooltip": null,
            "layout": "IPY_MODEL_863a70460e80433fa5fe5676481e7f0c",
            "placeholder": "​",
            "style": "IPY_MODEL_b04067d27666476f926ac6dfbb05226b",
            "value": " 1.20G/1.20G [00:19&lt;00:00, 65.1MB/s]"
          }
        },
        "09073b769bb64c0db6fbbd547967bcf5": {
          "model_module": "@jupyter-widgets/base",
          "model_module_version": "1.2.0",
          "model_name": "LayoutModel",
          "state": {
            "_model_module": "@jupyter-widgets/base",
            "_model_module_version": "1.2.0",
            "_model_name": "LayoutModel",
            "_view_count": null,
            "_view_module": "@jupyter-widgets/base",
            "_view_module_version": "1.2.0",
            "_view_name": "LayoutView",
            "align_content": null,
            "align_items": null,
            "align_self": null,
            "border": null,
            "bottom": null,
            "display": null,
            "flex": null,
            "flex_flow": null,
            "grid_area": null,
            "grid_auto_columns": null,
            "grid_auto_flow": null,
            "grid_auto_rows": null,
            "grid_column": null,
            "grid_gap": null,
            "grid_row": null,
            "grid_template_areas": null,
            "grid_template_columns": null,
            "grid_template_rows": null,
            "height": null,
            "justify_content": null,
            "justify_items": null,
            "left": null,
            "margin": null,
            "max_height": null,
            "max_width": null,
            "min_height": null,
            "min_width": null,
            "object_fit": null,
            "object_position": null,
            "order": null,
            "overflow": null,
            "overflow_x": null,
            "overflow_y": null,
            "padding": null,
            "right": null,
            "top": null,
            "visibility": null,
            "width": null
          }
        },
        "0cf94efcc2824cf2a013de0254685285": {
          "model_module": "@jupyter-widgets/controls",
          "model_module_version": "1.5.0",
          "model_name": "HTMLModel",
          "state": {
            "_dom_classes": [],
            "_model_module": "@jupyter-widgets/controls",
            "_model_module_version": "1.5.0",
            "_model_name": "HTMLModel",
            "_view_count": null,
            "_view_module": "@jupyter-widgets/controls",
            "_view_module_version": "1.5.0",
            "_view_name": "HTMLView",
            "description": "",
            "description_tooltip": null,
            "layout": "IPY_MODEL_b022906d3e934b42818c0c52d8130a20",
            "placeholder": "​",
            "style": "IPY_MODEL_a66b251203c444f8b2b01f516cd68ba8",
            "value": "Downloading: 100%"
          }
        },
        "0da464735a6e44b9a66179f215867f6e": {
          "model_module": "@jupyter-widgets/controls",
          "model_module_version": "1.5.0",
          "model_name": "HTMLModel",
          "state": {
            "_dom_classes": [],
            "_model_module": "@jupyter-widgets/controls",
            "_model_module_version": "1.5.0",
            "_model_name": "HTMLModel",
            "_view_count": null,
            "_view_module": "@jupyter-widgets/controls",
            "_view_module_version": "1.5.0",
            "_view_name": "HTMLView",
            "description": "",
            "description_tooltip": null,
            "layout": "IPY_MODEL_310c688583014ce3871018c4c30526ab",
            "placeholder": "​",
            "style": "IPY_MODEL_53a1cde031194a5b924bc95ff3bd00ac",
            "value": " 667M/667M [00:13&lt;00:00, 60.3MB/s]"
          }
        },
        "0e45b02b2c4545ba96149d4769e8e181": {
          "model_module": "@jupyter-widgets/base",
          "model_module_version": "1.2.0",
          "model_name": "LayoutModel",
          "state": {
            "_model_module": "@jupyter-widgets/base",
            "_model_module_version": "1.2.0",
            "_model_name": "LayoutModel",
            "_view_count": null,
            "_view_module": "@jupyter-widgets/base",
            "_view_module_version": "1.2.0",
            "_view_name": "LayoutView",
            "align_content": null,
            "align_items": null,
            "align_self": null,
            "border": null,
            "bottom": null,
            "display": null,
            "flex": null,
            "flex_flow": null,
            "grid_area": null,
            "grid_auto_columns": null,
            "grid_auto_flow": null,
            "grid_auto_rows": null,
            "grid_column": null,
            "grid_gap": null,
            "grid_row": null,
            "grid_template_areas": null,
            "grid_template_columns": null,
            "grid_template_rows": null,
            "height": null,
            "justify_content": null,
            "justify_items": null,
            "left": null,
            "margin": null,
            "max_height": null,
            "max_width": null,
            "min_height": null,
            "min_width": null,
            "object_fit": null,
            "object_position": null,
            "order": null,
            "overflow": null,
            "overflow_x": null,
            "overflow_y": null,
            "padding": null,
            "right": null,
            "top": null,
            "visibility": null,
            "width": null
          }
        },
        "13c875fb0a5d452b9e40ff8d019e2fb6": {
          "model_module": "@jupyter-widgets/base",
          "model_module_version": "1.2.0",
          "model_name": "LayoutModel",
          "state": {
            "_model_module": "@jupyter-widgets/base",
            "_model_module_version": "1.2.0",
            "_model_name": "LayoutModel",
            "_view_count": null,
            "_view_module": "@jupyter-widgets/base",
            "_view_module_version": "1.2.0",
            "_view_name": "LayoutView",
            "align_content": null,
            "align_items": null,
            "align_self": null,
            "border": null,
            "bottom": null,
            "display": null,
            "flex": null,
            "flex_flow": null,
            "grid_area": null,
            "grid_auto_columns": null,
            "grid_auto_flow": null,
            "grid_auto_rows": null,
            "grid_column": null,
            "grid_gap": null,
            "grid_row": null,
            "grid_template_areas": null,
            "grid_template_columns": null,
            "grid_template_rows": null,
            "height": null,
            "justify_content": null,
            "justify_items": null,
            "left": null,
            "margin": null,
            "max_height": null,
            "max_width": null,
            "min_height": null,
            "min_width": null,
            "object_fit": null,
            "object_position": null,
            "order": null,
            "overflow": null,
            "overflow_x": null,
            "overflow_y": null,
            "padding": null,
            "right": null,
            "top": null,
            "visibility": null,
            "width": null
          }
        },
        "1b491be27e2e47c0bc8be11e1afc402b": {
          "model_module": "@jupyter-widgets/controls",
          "model_module_version": "1.5.0",
          "model_name": "HBoxModel",
          "state": {
            "_dom_classes": [],
            "_model_module": "@jupyter-widgets/controls",
            "_model_module_version": "1.5.0",
            "_model_name": "HBoxModel",
            "_view_count": null,
            "_view_module": "@jupyter-widgets/controls",
            "_view_module_version": "1.5.0",
            "_view_name": "HBoxView",
            "box_style": "",
            "children": [
              "IPY_MODEL_a97827740d274f51a39dd8295abcfe18",
              "IPY_MODEL_db7b4df7061640feb285bbd358b20ad6",
              "IPY_MODEL_c496eaefd7d6429ca4e4e8bf93cef5b4"
            ],
            "layout": "IPY_MODEL_ae50f1d0ded947a6a8e33f116bcfbe4f"
          }
        },
        "21e49500c949449593305a0fe62ad61d": {
          "model_module": "@jupyter-widgets/controls",
          "model_module_version": "1.5.0",
          "model_name": "DescriptionStyleModel",
          "state": {
            "_model_module": "@jupyter-widgets/controls",
            "_model_module_version": "1.5.0",
            "_model_name": "DescriptionStyleModel",
            "_view_count": null,
            "_view_module": "@jupyter-widgets/base",
            "_view_module_version": "1.2.0",
            "_view_name": "StyleView",
            "description_width": ""
          }
        },
        "21f833a93e9c43ef98939317feade7b8": {
          "model_module": "@jupyter-widgets/controls",
          "model_module_version": "1.5.0",
          "model_name": "HBoxModel",
          "state": {
            "_dom_classes": [],
            "_model_module": "@jupyter-widgets/controls",
            "_model_module_version": "1.5.0",
            "_model_name": "HBoxModel",
            "_view_count": null,
            "_view_module": "@jupyter-widgets/controls",
            "_view_module_version": "1.5.0",
            "_view_name": "HBoxView",
            "box_style": "",
            "children": [
              "IPY_MODEL_0cf94efcc2824cf2a013de0254685285",
              "IPY_MODEL_7d2fc6e2d906408e9b991a8c985955ad",
              "IPY_MODEL_da83f3e4f6c448f3bd0dda1e7ca64e9e"
            ],
            "layout": "IPY_MODEL_75a66d01df844b1b9abb4273da6fbaed"
          }
        },
        "21fb0a4ba5e04e4298c47633e4c7471e": {
          "model_module": "@jupyter-widgets/controls",
          "model_module_version": "1.5.0",
          "model_name": "HBoxModel",
          "state": {
            "_dom_classes": [],
            "_model_module": "@jupyter-widgets/controls",
            "_model_module_version": "1.5.0",
            "_model_name": "HBoxModel",
            "_view_count": null,
            "_view_module": "@jupyter-widgets/controls",
            "_view_module_version": "1.5.0",
            "_view_name": "HBoxView",
            "box_style": "",
            "children": [
              "IPY_MODEL_df489cd4cf024cd49747b6382d3b3bb2",
              "IPY_MODEL_8e74e28f4a744362b959980f42eb4bee",
              "IPY_MODEL_07bdc302e8dc4b1caa085031dd41851f"
            ],
            "layout": "IPY_MODEL_09073b769bb64c0db6fbbd547967bcf5"
          }
        },
        "27cc0e8bb06c449eae8a5c19a1b5443c": {
          "model_module": "@jupyter-widgets/controls",
          "model_module_version": "1.5.0",
          "model_name": "HBoxModel",
          "state": {
            "_dom_classes": [],
            "_model_module": "@jupyter-widgets/controls",
            "_model_module_version": "1.5.0",
            "_model_name": "HBoxModel",
            "_view_count": null,
            "_view_module": "@jupyter-widgets/controls",
            "_view_module_version": "1.5.0",
            "_view_name": "HBoxView",
            "box_style": "",
            "children": [
              "IPY_MODEL_8883be0dbcd5406cb3039a1c7ed1baee",
              "IPY_MODEL_9f287844f6224bc9b30231cf5b8c7066",
              "IPY_MODEL_95b2e358d37a45f8b924918aa2b43f80"
            ],
            "layout": "IPY_MODEL_70ad9c0b109d4afd914b26c8883a0cd3"
          }
        },
        "2808631d943d4ff2812086df93ae8b50": {
          "model_module": "@jupyter-widgets/base",
          "model_module_version": "1.2.0",
          "model_name": "LayoutModel",
          "state": {
            "_model_module": "@jupyter-widgets/base",
            "_model_module_version": "1.2.0",
            "_model_name": "LayoutModel",
            "_view_count": null,
            "_view_module": "@jupyter-widgets/base",
            "_view_module_version": "1.2.0",
            "_view_name": "LayoutView",
            "align_content": null,
            "align_items": null,
            "align_self": null,
            "border": null,
            "bottom": null,
            "display": null,
            "flex": null,
            "flex_flow": null,
            "grid_area": null,
            "grid_auto_columns": null,
            "grid_auto_flow": null,
            "grid_auto_rows": null,
            "grid_column": null,
            "grid_gap": null,
            "grid_row": null,
            "grid_template_areas": null,
            "grid_template_columns": null,
            "grid_template_rows": null,
            "height": null,
            "justify_content": null,
            "justify_items": null,
            "left": null,
            "margin": null,
            "max_height": null,
            "max_width": null,
            "min_height": null,
            "min_width": null,
            "object_fit": null,
            "object_position": null,
            "order": null,
            "overflow": null,
            "overflow_x": null,
            "overflow_y": null,
            "padding": null,
            "right": null,
            "top": null,
            "visibility": null,
            "width": null
          }
        },
        "310c688583014ce3871018c4c30526ab": {
          "model_module": "@jupyter-widgets/base",
          "model_module_version": "1.2.0",
          "model_name": "LayoutModel",
          "state": {
            "_model_module": "@jupyter-widgets/base",
            "_model_module_version": "1.2.0",
            "_model_name": "LayoutModel",
            "_view_count": null,
            "_view_module": "@jupyter-widgets/base",
            "_view_module_version": "1.2.0",
            "_view_name": "LayoutView",
            "align_content": null,
            "align_items": null,
            "align_self": null,
            "border": null,
            "bottom": null,
            "display": null,
            "flex": null,
            "flex_flow": null,
            "grid_area": null,
            "grid_auto_columns": null,
            "grid_auto_flow": null,
            "grid_auto_rows": null,
            "grid_column": null,
            "grid_gap": null,
            "grid_row": null,
            "grid_template_areas": null,
            "grid_template_columns": null,
            "grid_template_rows": null,
            "height": null,
            "justify_content": null,
            "justify_items": null,
            "left": null,
            "margin": null,
            "max_height": null,
            "max_width": null,
            "min_height": null,
            "min_width": null,
            "object_fit": null,
            "object_position": null,
            "order": null,
            "overflow": null,
            "overflow_x": null,
            "overflow_y": null,
            "padding": null,
            "right": null,
            "top": null,
            "visibility": null,
            "width": null
          }
        },
        "3459e93f790941c6ab04ffe6e78ea22f": {
          "model_module": "@jupyter-widgets/base",
          "model_module_version": "1.2.0",
          "model_name": "LayoutModel",
          "state": {
            "_model_module": "@jupyter-widgets/base",
            "_model_module_version": "1.2.0",
            "_model_name": "LayoutModel",
            "_view_count": null,
            "_view_module": "@jupyter-widgets/base",
            "_view_module_version": "1.2.0",
            "_view_name": "LayoutView",
            "align_content": null,
            "align_items": null,
            "align_self": null,
            "border": null,
            "bottom": null,
            "display": null,
            "flex": null,
            "flex_flow": null,
            "grid_area": null,
            "grid_auto_columns": null,
            "grid_auto_flow": null,
            "grid_auto_rows": null,
            "grid_column": null,
            "grid_gap": null,
            "grid_row": null,
            "grid_template_areas": null,
            "grid_template_columns": null,
            "grid_template_rows": null,
            "height": null,
            "justify_content": null,
            "justify_items": null,
            "left": null,
            "margin": null,
            "max_height": null,
            "max_width": null,
            "min_height": null,
            "min_width": null,
            "object_fit": null,
            "object_position": null,
            "order": null,
            "overflow": null,
            "overflow_x": null,
            "overflow_y": null,
            "padding": null,
            "right": null,
            "top": null,
            "visibility": null,
            "width": null
          }
        },
        "38ad9bc1e72247938329691a24fa3198": {
          "model_module": "@jupyter-widgets/controls",
          "model_module_version": "1.5.0",
          "model_name": "DescriptionStyleModel",
          "state": {
            "_model_module": "@jupyter-widgets/controls",
            "_model_module_version": "1.5.0",
            "_model_name": "DescriptionStyleModel",
            "_view_count": null,
            "_view_module": "@jupyter-widgets/base",
            "_view_module_version": "1.2.0",
            "_view_name": "StyleView",
            "description_width": ""
          }
        },
        "44e77fd739fb4776b7295f3e99984488": {
          "model_module": "@jupyter-widgets/base",
          "model_module_version": "1.2.0",
          "model_name": "LayoutModel",
          "state": {
            "_model_module": "@jupyter-widgets/base",
            "_model_module_version": "1.2.0",
            "_model_name": "LayoutModel",
            "_view_count": null,
            "_view_module": "@jupyter-widgets/base",
            "_view_module_version": "1.2.0",
            "_view_name": "LayoutView",
            "align_content": null,
            "align_items": null,
            "align_self": null,
            "border": null,
            "bottom": null,
            "display": null,
            "flex": null,
            "flex_flow": null,
            "grid_area": null,
            "grid_auto_columns": null,
            "grid_auto_flow": null,
            "grid_auto_rows": null,
            "grid_column": null,
            "grid_gap": null,
            "grid_row": null,
            "grid_template_areas": null,
            "grid_template_columns": null,
            "grid_template_rows": null,
            "height": null,
            "justify_content": null,
            "justify_items": null,
            "left": null,
            "margin": null,
            "max_height": null,
            "max_width": null,
            "min_height": null,
            "min_width": null,
            "object_fit": null,
            "object_position": null,
            "order": null,
            "overflow": null,
            "overflow_x": null,
            "overflow_y": null,
            "padding": null,
            "right": null,
            "top": null,
            "visibility": null,
            "width": null
          }
        },
        "4fb2072821fa485b8f5d4b61579aa310": {
          "model_module": "@jupyter-widgets/controls",
          "model_module_version": "1.5.0",
          "model_name": "DescriptionStyleModel",
          "state": {
            "_model_module": "@jupyter-widgets/controls",
            "_model_module_version": "1.5.0",
            "_model_name": "DescriptionStyleModel",
            "_view_count": null,
            "_view_module": "@jupyter-widgets/base",
            "_view_module_version": "1.2.0",
            "_view_name": "StyleView",
            "description_width": ""
          }
        },
        "4fb50f2b73684d09824e237ac85d091c": {
          "model_module": "@jupyter-widgets/controls",
          "model_module_version": "1.5.0",
          "model_name": "FloatProgressModel",
          "state": {
            "_dom_classes": [],
            "_model_module": "@jupyter-widgets/controls",
            "_model_module_version": "1.5.0",
            "_model_name": "FloatProgressModel",
            "_view_count": null,
            "_view_module": "@jupyter-widgets/controls",
            "_view_module_version": "1.5.0",
            "_view_name": "ProgressView",
            "bar_style": "success",
            "description": "",
            "description_tooltip": null,
            "layout": "IPY_MODEL_2808631d943d4ff2812086df93ae8b50",
            "max": 666594870,
            "min": 0,
            "orientation": "horizontal",
            "style": "IPY_MODEL_dcbce404c811450b970ad6400b2c2627",
            "value": 666594870
          }
        },
        "53a1cde031194a5b924bc95ff3bd00ac": {
          "model_module": "@jupyter-widgets/controls",
          "model_module_version": "1.5.0",
          "model_name": "DescriptionStyleModel",
          "state": {
            "_model_module": "@jupyter-widgets/controls",
            "_model_module_version": "1.5.0",
            "_model_name": "DescriptionStyleModel",
            "_view_count": null,
            "_view_module": "@jupyter-widgets/base",
            "_view_module_version": "1.2.0",
            "_view_name": "StyleView",
            "description_width": ""
          }
        },
        "55fe600c052647348bcda9158af449e8": {
          "model_module": "@jupyter-widgets/controls",
          "model_module_version": "1.5.0",
          "model_name": "DescriptionStyleModel",
          "state": {
            "_model_module": "@jupyter-widgets/controls",
            "_model_module_version": "1.5.0",
            "_model_name": "DescriptionStyleModel",
            "_view_count": null,
            "_view_module": "@jupyter-widgets/base",
            "_view_module_version": "1.2.0",
            "_view_name": "StyleView",
            "description_width": ""
          }
        },
        "62a6bc0f57ae44298f641ec0cead98c2": {
          "model_module": "@jupyter-widgets/base",
          "model_module_version": "1.2.0",
          "model_name": "LayoutModel",
          "state": {
            "_model_module": "@jupyter-widgets/base",
            "_model_module_version": "1.2.0",
            "_model_name": "LayoutModel",
            "_view_count": null,
            "_view_module": "@jupyter-widgets/base",
            "_view_module_version": "1.2.0",
            "_view_name": "LayoutView",
            "align_content": null,
            "align_items": null,
            "align_self": null,
            "border": null,
            "bottom": null,
            "display": null,
            "flex": null,
            "flex_flow": null,
            "grid_area": null,
            "grid_auto_columns": null,
            "grid_auto_flow": null,
            "grid_auto_rows": null,
            "grid_column": null,
            "grid_gap": null,
            "grid_row": null,
            "grid_template_areas": null,
            "grid_template_columns": null,
            "grid_template_rows": null,
            "height": null,
            "justify_content": null,
            "justify_items": null,
            "left": null,
            "margin": null,
            "max_height": null,
            "max_width": null,
            "min_height": null,
            "min_width": null,
            "object_fit": null,
            "object_position": null,
            "order": null,
            "overflow": null,
            "overflow_x": null,
            "overflow_y": null,
            "padding": null,
            "right": null,
            "top": null,
            "visibility": null,
            "width": null
          }
        },
        "6dc7df2addf44f3ebde565e6c8711b2d": {
          "model_module": "@jupyter-widgets/controls",
          "model_module_version": "1.5.0",
          "model_name": "DescriptionStyleModel",
          "state": {
            "_model_module": "@jupyter-widgets/controls",
            "_model_module_version": "1.5.0",
            "_model_name": "DescriptionStyleModel",
            "_view_count": null,
            "_view_module": "@jupyter-widgets/base",
            "_view_module_version": "1.2.0",
            "_view_name": "StyleView",
            "description_width": ""
          }
        },
        "70ad9c0b109d4afd914b26c8883a0cd3": {
          "model_module": "@jupyter-widgets/base",
          "model_module_version": "1.2.0",
          "model_name": "LayoutModel",
          "state": {
            "_model_module": "@jupyter-widgets/base",
            "_model_module_version": "1.2.0",
            "_model_name": "LayoutModel",
            "_view_count": null,
            "_view_module": "@jupyter-widgets/base",
            "_view_module_version": "1.2.0",
            "_view_name": "LayoutView",
            "align_content": null,
            "align_items": null,
            "align_self": null,
            "border": null,
            "bottom": null,
            "display": null,
            "flex": null,
            "flex_flow": null,
            "grid_area": null,
            "grid_auto_columns": null,
            "grid_auto_flow": null,
            "grid_auto_rows": null,
            "grid_column": null,
            "grid_gap": null,
            "grid_row": null,
            "grid_template_areas": null,
            "grid_template_columns": null,
            "grid_template_rows": null,
            "height": null,
            "justify_content": null,
            "justify_items": null,
            "left": null,
            "margin": null,
            "max_height": null,
            "max_width": null,
            "min_height": null,
            "min_width": null,
            "object_fit": null,
            "object_position": null,
            "order": null,
            "overflow": null,
            "overflow_x": null,
            "overflow_y": null,
            "padding": null,
            "right": null,
            "top": null,
            "visibility": null,
            "width": null
          }
        },
        "75a66d01df844b1b9abb4273da6fbaed": {
          "model_module": "@jupyter-widgets/base",
          "model_module_version": "1.2.0",
          "model_name": "LayoutModel",
          "state": {
            "_model_module": "@jupyter-widgets/base",
            "_model_module_version": "1.2.0",
            "_model_name": "LayoutModel",
            "_view_count": null,
            "_view_module": "@jupyter-widgets/base",
            "_view_module_version": "1.2.0",
            "_view_name": "LayoutView",
            "align_content": null,
            "align_items": null,
            "align_self": null,
            "border": null,
            "bottom": null,
            "display": null,
            "flex": null,
            "flex_flow": null,
            "grid_area": null,
            "grid_auto_columns": null,
            "grid_auto_flow": null,
            "grid_auto_rows": null,
            "grid_column": null,
            "grid_gap": null,
            "grid_row": null,
            "grid_template_areas": null,
            "grid_template_columns": null,
            "grid_template_rows": null,
            "height": null,
            "justify_content": null,
            "justify_items": null,
            "left": null,
            "margin": null,
            "max_height": null,
            "max_width": null,
            "min_height": null,
            "min_width": null,
            "object_fit": null,
            "object_position": null,
            "order": null,
            "overflow": null,
            "overflow_x": null,
            "overflow_y": null,
            "padding": null,
            "right": null,
            "top": null,
            "visibility": null,
            "width": null
          }
        },
        "7d2fc6e2d906408e9b991a8c985955ad": {
          "model_module": "@jupyter-widgets/controls",
          "model_module_version": "1.5.0",
          "model_name": "FloatProgressModel",
          "state": {
            "_dom_classes": [],
            "_model_module": "@jupyter-widgets/controls",
            "_model_module_version": "1.5.0",
            "_model_name": "FloatProgressModel",
            "_view_count": null,
            "_view_module": "@jupyter-widgets/controls",
            "_view_module_version": "1.5.0",
            "_view_name": "ProgressView",
            "bar_style": "success",
            "description": "",
            "description_tooltip": null,
            "layout": "IPY_MODEL_3459e93f790941c6ab04ffe6e78ea22f",
            "max": 99693937,
            "min": 0,
            "orientation": "horizontal",
            "style": "IPY_MODEL_96f9cce8b472429d83a8c0bc7d355e6f",
            "value": 99693937
          }
        },
        "8347edb38e3f41c5bffd4e4401e5e680": {
          "model_module": "@jupyter-widgets/base",
          "model_module_version": "1.2.0",
          "model_name": "LayoutModel",
          "state": {
            "_model_module": "@jupyter-widgets/base",
            "_model_module_version": "1.2.0",
            "_model_name": "LayoutModel",
            "_view_count": null,
            "_view_module": "@jupyter-widgets/base",
            "_view_module_version": "1.2.0",
            "_view_name": "LayoutView",
            "align_content": null,
            "align_items": null,
            "align_self": null,
            "border": null,
            "bottom": null,
            "display": null,
            "flex": null,
            "flex_flow": null,
            "grid_area": null,
            "grid_auto_columns": null,
            "grid_auto_flow": null,
            "grid_auto_rows": null,
            "grid_column": null,
            "grid_gap": null,
            "grid_row": null,
            "grid_template_areas": null,
            "grid_template_columns": null,
            "grid_template_rows": null,
            "height": null,
            "justify_content": null,
            "justify_items": null,
            "left": null,
            "margin": null,
            "max_height": null,
            "max_width": null,
            "min_height": null,
            "min_width": null,
            "object_fit": null,
            "object_position": null,
            "order": null,
            "overflow": null,
            "overflow_x": null,
            "overflow_y": null,
            "padding": null,
            "right": null,
            "top": null,
            "visibility": null,
            "width": null
          }
        },
        "838775ae8d124e57b7cf9a1165a4eaca": {
          "model_module": "@jupyter-widgets/controls",
          "model_module_version": "1.5.0",
          "model_name": "DescriptionStyleModel",
          "state": {
            "_model_module": "@jupyter-widgets/controls",
            "_model_module_version": "1.5.0",
            "_model_name": "DescriptionStyleModel",
            "_view_count": null,
            "_view_module": "@jupyter-widgets/base",
            "_view_module_version": "1.2.0",
            "_view_name": "StyleView",
            "description_width": ""
          }
        },
        "863a70460e80433fa5fe5676481e7f0c": {
          "model_module": "@jupyter-widgets/base",
          "model_module_version": "1.2.0",
          "model_name": "LayoutModel",
          "state": {
            "_model_module": "@jupyter-widgets/base",
            "_model_module_version": "1.2.0",
            "_model_name": "LayoutModel",
            "_view_count": null,
            "_view_module": "@jupyter-widgets/base",
            "_view_module_version": "1.2.0",
            "_view_name": "LayoutView",
            "align_content": null,
            "align_items": null,
            "align_self": null,
            "border": null,
            "bottom": null,
            "display": null,
            "flex": null,
            "flex_flow": null,
            "grid_area": null,
            "grid_auto_columns": null,
            "grid_auto_flow": null,
            "grid_auto_rows": null,
            "grid_column": null,
            "grid_gap": null,
            "grid_row": null,
            "grid_template_areas": null,
            "grid_template_columns": null,
            "grid_template_rows": null,
            "height": null,
            "justify_content": null,
            "justify_items": null,
            "left": null,
            "margin": null,
            "max_height": null,
            "max_width": null,
            "min_height": null,
            "min_width": null,
            "object_fit": null,
            "object_position": null,
            "order": null,
            "overflow": null,
            "overflow_x": null,
            "overflow_y": null,
            "padding": null,
            "right": null,
            "top": null,
            "visibility": null,
            "width": null
          }
        },
        "8883be0dbcd5406cb3039a1c7ed1baee": {
          "model_module": "@jupyter-widgets/controls",
          "model_module_version": "1.5.0",
          "model_name": "HTMLModel",
          "state": {
            "_dom_classes": [],
            "_model_module": "@jupyter-widgets/controls",
            "_model_module_version": "1.5.0",
            "_model_name": "HTMLModel",
            "_view_count": null,
            "_view_module": "@jupyter-widgets/controls",
            "_view_module_version": "1.5.0",
            "_view_name": "HTMLView",
            "description": "",
            "description_tooltip": null,
            "layout": "IPY_MODEL_ae6fc2bc2c1e438d9f072c5cc47cb4c0",
            "placeholder": "​",
            "style": "IPY_MODEL_55fe600c052647348bcda9158af449e8",
            "value": "100%"
          }
        },
        "8939a155bf6945dd9a8bedad1b18892f": {
          "model_module": "@jupyter-widgets/base",
          "model_module_version": "1.2.0",
          "model_name": "LayoutModel",
          "state": {
            "_model_module": "@jupyter-widgets/base",
            "_model_module_version": "1.2.0",
            "_model_name": "LayoutModel",
            "_view_count": null,
            "_view_module": "@jupyter-widgets/base",
            "_view_module_version": "1.2.0",
            "_view_name": "LayoutView",
            "align_content": null,
            "align_items": null,
            "align_self": null,
            "border": null,
            "bottom": null,
            "display": null,
            "flex": null,
            "flex_flow": null,
            "grid_area": null,
            "grid_auto_columns": null,
            "grid_auto_flow": null,
            "grid_auto_rows": null,
            "grid_column": null,
            "grid_gap": null,
            "grid_row": null,
            "grid_template_areas": null,
            "grid_template_columns": null,
            "grid_template_rows": null,
            "height": null,
            "justify_content": null,
            "justify_items": null,
            "left": null,
            "margin": null,
            "max_height": null,
            "max_width": null,
            "min_height": null,
            "min_width": null,
            "object_fit": null,
            "object_position": null,
            "order": null,
            "overflow": null,
            "overflow_x": null,
            "overflow_y": null,
            "padding": null,
            "right": null,
            "top": null,
            "visibility": null,
            "width": null
          }
        },
        "896f07951b9a401aa1e9fb52d0183f7b": {
          "model_module": "@jupyter-widgets/controls",
          "model_module_version": "1.5.0",
          "model_name": "DescriptionStyleModel",
          "state": {
            "_model_module": "@jupyter-widgets/controls",
            "_model_module_version": "1.5.0",
            "_model_name": "DescriptionStyleModel",
            "_view_count": null,
            "_view_module": "@jupyter-widgets/base",
            "_view_module_version": "1.2.0",
            "_view_name": "StyleView",
            "description_width": ""
          }
        },
        "8e74e28f4a744362b959980f42eb4bee": {
          "model_module": "@jupyter-widgets/controls",
          "model_module_version": "1.5.0",
          "model_name": "FloatProgressModel",
          "state": {
            "_dom_classes": [],
            "_model_module": "@jupyter-widgets/controls",
            "_model_module_version": "1.5.0",
            "_model_name": "FloatProgressModel",
            "_view_count": null,
            "_view_module": "@jupyter-widgets/controls",
            "_view_module_version": "1.5.0",
            "_view_name": "ProgressView",
            "bar_style": "success",
            "description": "",
            "description_tooltip": null,
            "layout": "IPY_MODEL_d706643f9de14a09bd78b07aa393eb0a",
            "max": 1201660560,
            "min": 0,
            "orientation": "horizontal",
            "style": "IPY_MODEL_aeccce28172c425ea0efedfcef644608",
            "value": 1201660560
          }
        },
        "95b2e358d37a45f8b924918aa2b43f80": {
          "model_module": "@jupyter-widgets/controls",
          "model_module_version": "1.5.0",
          "model_name": "HTMLModel",
          "state": {
            "_dom_classes": [],
            "_model_module": "@jupyter-widgets/controls",
            "_model_module_version": "1.5.0",
            "_model_name": "HTMLModel",
            "_view_count": null,
            "_view_module": "@jupyter-widgets/controls",
            "_view_module_version": "1.5.0",
            "_view_name": "HTMLView",
            "description": "",
            "description_tooltip": null,
            "layout": "IPY_MODEL_ba1a3c50e05c4015a93ef005db1c2fa3",
            "placeholder": "​",
            "style": "IPY_MODEL_38ad9bc1e72247938329691a24fa3198",
            "value": " 44.7M/44.7M [00:00&lt;00:00, 209MB/s]"
          }
        },
        "95d233eae4d24eac805f75e5eec244f2": {
          "model_module": "@jupyter-widgets/controls",
          "model_module_version": "1.5.0",
          "model_name": "DescriptionStyleModel",
          "state": {
            "_model_module": "@jupyter-widgets/controls",
            "_model_module_version": "1.5.0",
            "_model_name": "DescriptionStyleModel",
            "_view_count": null,
            "_view_module": "@jupyter-widgets/base",
            "_view_module_version": "1.2.0",
            "_view_name": "StyleView",
            "description_width": ""
          }
        },
        "96480d758db2437eaf9cfb00459e1408": {
          "model_module": "@jupyter-widgets/controls",
          "model_module_version": "1.5.0",
          "model_name": "HTMLModel",
          "state": {
            "_dom_classes": [],
            "_model_module": "@jupyter-widgets/controls",
            "_model_module_version": "1.5.0",
            "_model_name": "HTMLModel",
            "_view_count": null,
            "_view_module": "@jupyter-widgets/controls",
            "_view_module_version": "1.5.0",
            "_view_name": "HTMLView",
            "description": "",
            "description_tooltip": null,
            "layout": "IPY_MODEL_fd3371346c9e4fa08b60cabb5b75a830",
            "placeholder": "​",
            "style": "IPY_MODEL_838775ae8d124e57b7cf9a1165a4eaca",
            "value": " 11.7M/11.7M [00:00&lt;00:00, 39.6MB/s]"
          }
        },
        "96f9cce8b472429d83a8c0bc7d355e6f": {
          "model_module": "@jupyter-widgets/controls",
          "model_module_version": "1.5.0",
          "model_name": "ProgressStyleModel",
          "state": {
            "_model_module": "@jupyter-widgets/controls",
            "_model_module_version": "1.5.0",
            "_model_name": "ProgressStyleModel",
            "_view_count": null,
            "_view_module": "@jupyter-widgets/base",
            "_view_module_version": "1.2.0",
            "_view_name": "StyleView",
            "bar_color": null,
            "description_width": ""
          }
        },
        "98a9c8fc34db45d39f84ae97d88a72b1": {
          "model_module": "@jupyter-widgets/base",
          "model_module_version": "1.2.0",
          "model_name": "LayoutModel",
          "state": {
            "_model_module": "@jupyter-widgets/base",
            "_model_module_version": "1.2.0",
            "_model_name": "LayoutModel",
            "_view_count": null,
            "_view_module": "@jupyter-widgets/base",
            "_view_module_version": "1.2.0",
            "_view_name": "LayoutView",
            "align_content": null,
            "align_items": null,
            "align_self": null,
            "border": null,
            "bottom": null,
            "display": null,
            "flex": null,
            "flex_flow": null,
            "grid_area": null,
            "grid_auto_columns": null,
            "grid_auto_flow": null,
            "grid_auto_rows": null,
            "grid_column": null,
            "grid_gap": null,
            "grid_row": null,
            "grid_template_areas": null,
            "grid_template_columns": null,
            "grid_template_rows": null,
            "height": null,
            "justify_content": null,
            "justify_items": null,
            "left": null,
            "margin": null,
            "max_height": null,
            "max_width": null,
            "min_height": null,
            "min_width": null,
            "object_fit": null,
            "object_position": null,
            "order": null,
            "overflow": null,
            "overflow_x": null,
            "overflow_y": null,
            "padding": null,
            "right": null,
            "top": null,
            "visibility": null,
            "width": null
          }
        },
        "9f287844f6224bc9b30231cf5b8c7066": {
          "model_module": "@jupyter-widgets/controls",
          "model_module_version": "1.5.0",
          "model_name": "FloatProgressModel",
          "state": {
            "_dom_classes": [],
            "_model_module": "@jupyter-widgets/controls",
            "_model_module_version": "1.5.0",
            "_model_name": "FloatProgressModel",
            "_view_count": null,
            "_view_module": "@jupyter-widgets/controls",
            "_view_module_version": "1.5.0",
            "_view_name": "ProgressView",
            "bar_style": "success",
            "description": "",
            "description_tooltip": null,
            "layout": "IPY_MODEL_8347edb38e3f41c5bffd4e4401e5e680",
            "max": 46827520,
            "min": 0,
            "orientation": "horizontal",
            "style": "IPY_MODEL_b3de1b939a484f05a7b77413bedb2a47",
            "value": 46827520
          }
        },
        "9f472f1147444f4ca87ca5ec781a50e7": {
          "model_module": "@jupyter-widgets/controls",
          "model_module_version": "1.5.0",
          "model_name": "ProgressStyleModel",
          "state": {
            "_model_module": "@jupyter-widgets/controls",
            "_model_module_version": "1.5.0",
            "_model_name": "ProgressStyleModel",
            "_view_count": null,
            "_view_module": "@jupyter-widgets/base",
            "_view_module_version": "1.2.0",
            "_view_name": "StyleView",
            "bar_color": null,
            "description_width": ""
          }
        },
        "a062ac51c49542ed9ca0ba09bc20893d": {
          "model_module": "@jupyter-widgets/controls",
          "model_module_version": "1.5.0",
          "model_name": "HTMLModel",
          "state": {
            "_dom_classes": [],
            "_model_module": "@jupyter-widgets/controls",
            "_model_module_version": "1.5.0",
            "_model_name": "HTMLModel",
            "_view_count": null,
            "_view_module": "@jupyter-widgets/controls",
            "_view_module_version": "1.5.0",
            "_view_name": "HTMLView",
            "description": "",
            "description_tooltip": null,
            "layout": "IPY_MODEL_8939a155bf6945dd9a8bedad1b18892f",
            "placeholder": "​",
            "style": "IPY_MODEL_4fb2072821fa485b8f5d4b61579aa310",
            "value": "100%"
          }
        },
        "a1144ee5faf94ab4baeff381897f9e10": {
          "model_module": "@jupyter-widgets/base",
          "model_module_version": "1.2.0",
          "model_name": "LayoutModel",
          "state": {
            "_model_module": "@jupyter-widgets/base",
            "_model_module_version": "1.2.0",
            "_model_name": "LayoutModel",
            "_view_count": null,
            "_view_module": "@jupyter-widgets/base",
            "_view_module_version": "1.2.0",
            "_view_name": "LayoutView",
            "align_content": null,
            "align_items": null,
            "align_self": null,
            "border": null,
            "bottom": null,
            "display": null,
            "flex": null,
            "flex_flow": null,
            "grid_area": null,
            "grid_auto_columns": null,
            "grid_auto_flow": null,
            "grid_auto_rows": null,
            "grid_column": null,
            "grid_gap": null,
            "grid_row": null,
            "grid_template_areas": null,
            "grid_template_columns": null,
            "grid_template_rows": null,
            "height": null,
            "justify_content": null,
            "justify_items": null,
            "left": null,
            "margin": null,
            "max_height": null,
            "max_width": null,
            "min_height": null,
            "min_width": null,
            "object_fit": null,
            "object_position": null,
            "order": null,
            "overflow": null,
            "overflow_x": null,
            "overflow_y": null,
            "padding": null,
            "right": null,
            "top": null,
            "visibility": null,
            "width": null
          }
        },
        "a1812a99441842169c1453db08aa2a2a": {
          "model_module": "@jupyter-widgets/controls",
          "model_module_version": "1.5.0",
          "model_name": "HBoxModel",
          "state": {
            "_dom_classes": [],
            "_model_module": "@jupyter-widgets/controls",
            "_model_module_version": "1.5.0",
            "_model_name": "HBoxModel",
            "_view_count": null,
            "_view_module": "@jupyter-widgets/controls",
            "_view_module_version": "1.5.0",
            "_view_name": "HBoxView",
            "box_style": "",
            "children": [
              "IPY_MODEL_a062ac51c49542ed9ca0ba09bc20893d",
              "IPY_MODEL_f3cc64361e3a4435a3dec8e924d9ef20",
              "IPY_MODEL_c8047dd7bda64e978d212c0efb117e93"
            ],
            "layout": "IPY_MODEL_44e77fd739fb4776b7295f3e99984488"
          }
        },
        "a66b251203c444f8b2b01f516cd68ba8": {
          "model_module": "@jupyter-widgets/controls",
          "model_module_version": "1.5.0",
          "model_name": "DescriptionStyleModel",
          "state": {
            "_model_module": "@jupyter-widgets/controls",
            "_model_module_version": "1.5.0",
            "_model_name": "DescriptionStyleModel",
            "_view_count": null,
            "_view_module": "@jupyter-widgets/base",
            "_view_module_version": "1.2.0",
            "_view_name": "StyleView",
            "description_width": ""
          }
        },
        "a97827740d274f51a39dd8295abcfe18": {
          "model_module": "@jupyter-widgets/controls",
          "model_module_version": "1.5.0",
          "model_name": "HTMLModel",
          "state": {
            "_dom_classes": [],
            "_model_module": "@jupyter-widgets/controls",
            "_model_module_version": "1.5.0",
            "_model_name": "HTMLModel",
            "_view_count": null,
            "_view_module": "@jupyter-widgets/controls",
            "_view_module_version": "1.5.0",
            "_view_name": "HTMLView",
            "description": "",
            "description_tooltip": null,
            "layout": "IPY_MODEL_62a6bc0f57ae44298f641ec0cead98c2",
            "placeholder": "​",
            "style": "IPY_MODEL_0233d2cbd94f42389554b9c0d76a136e",
            "value": "Downloading: 100%"
          }
        },
        "ab0963ef48654eb293e327f013e260f6": {
          "model_module": "@jupyter-widgets/controls",
          "model_module_version": "1.5.0",
          "model_name": "ProgressStyleModel",
          "state": {
            "_model_module": "@jupyter-widgets/controls",
            "_model_module_version": "1.5.0",
            "_model_name": "ProgressStyleModel",
            "_view_count": null,
            "_view_module": "@jupyter-widgets/base",
            "_view_module_version": "1.2.0",
            "_view_name": "StyleView",
            "bar_color": null,
            "description_width": ""
          }
        },
        "ab26850483484b1897a19a3f9417aa33": {
          "model_module": "@jupyter-widgets/controls",
          "model_module_version": "1.5.0",
          "model_name": "HTMLModel",
          "state": {
            "_dom_classes": [],
            "_model_module": "@jupyter-widgets/controls",
            "_model_module_version": "1.5.0",
            "_model_name": "HTMLModel",
            "_view_count": null,
            "_view_module": "@jupyter-widgets/controls",
            "_view_module_version": "1.5.0",
            "_view_name": "HTMLView",
            "description": "",
            "description_tooltip": null,
            "layout": "IPY_MODEL_bb601c1f64474ab1bd2f866d3f30264b",
            "placeholder": "​",
            "style": "IPY_MODEL_21e49500c949449593305a0fe62ad61d",
            "value": "Downloading: 100%"
          }
        },
        "ae36bdd710d249c3aea9df81f3697ec7": {
          "model_module": "@jupyter-widgets/base",
          "model_module_version": "1.2.0",
          "model_name": "LayoutModel",
          "state": {
            "_model_module": "@jupyter-widgets/base",
            "_model_module_version": "1.2.0",
            "_model_name": "LayoutModel",
            "_view_count": null,
            "_view_module": "@jupyter-widgets/base",
            "_view_module_version": "1.2.0",
            "_view_name": "LayoutView",
            "align_content": null,
            "align_items": null,
            "align_self": null,
            "border": null,
            "bottom": null,
            "display": null,
            "flex": null,
            "flex_flow": null,
            "grid_area": null,
            "grid_auto_columns": null,
            "grid_auto_flow": null,
            "grid_auto_rows": null,
            "grid_column": null,
            "grid_gap": null,
            "grid_row": null,
            "grid_template_areas": null,
            "grid_template_columns": null,
            "grid_template_rows": null,
            "height": null,
            "justify_content": null,
            "justify_items": null,
            "left": null,
            "margin": null,
            "max_height": null,
            "max_width": null,
            "min_height": null,
            "min_width": null,
            "object_fit": null,
            "object_position": null,
            "order": null,
            "overflow": null,
            "overflow_x": null,
            "overflow_y": null,
            "padding": null,
            "right": null,
            "top": null,
            "visibility": null,
            "width": null
          }
        },
        "ae50f1d0ded947a6a8e33f116bcfbe4f": {
          "model_module": "@jupyter-widgets/base",
          "model_module_version": "1.2.0",
          "model_name": "LayoutModel",
          "state": {
            "_model_module": "@jupyter-widgets/base",
            "_model_module_version": "1.2.0",
            "_model_name": "LayoutModel",
            "_view_count": null,
            "_view_module": "@jupyter-widgets/base",
            "_view_module_version": "1.2.0",
            "_view_name": "LayoutView",
            "align_content": null,
            "align_items": null,
            "align_self": null,
            "border": null,
            "bottom": null,
            "display": null,
            "flex": null,
            "flex_flow": null,
            "grid_area": null,
            "grid_auto_columns": null,
            "grid_auto_flow": null,
            "grid_auto_rows": null,
            "grid_column": null,
            "grid_gap": null,
            "grid_row": null,
            "grid_template_areas": null,
            "grid_template_columns": null,
            "grid_template_rows": null,
            "height": null,
            "justify_content": null,
            "justify_items": null,
            "left": null,
            "margin": null,
            "max_height": null,
            "max_width": null,
            "min_height": null,
            "min_width": null,
            "object_fit": null,
            "object_position": null,
            "order": null,
            "overflow": null,
            "overflow_x": null,
            "overflow_y": null,
            "padding": null,
            "right": null,
            "top": null,
            "visibility": null,
            "width": null
          }
        },
        "ae6fc2bc2c1e438d9f072c5cc47cb4c0": {
          "model_module": "@jupyter-widgets/base",
          "model_module_version": "1.2.0",
          "model_name": "LayoutModel",
          "state": {
            "_model_module": "@jupyter-widgets/base",
            "_model_module_version": "1.2.0",
            "_model_name": "LayoutModel",
            "_view_count": null,
            "_view_module": "@jupyter-widgets/base",
            "_view_module_version": "1.2.0",
            "_view_name": "LayoutView",
            "align_content": null,
            "align_items": null,
            "align_self": null,
            "border": null,
            "bottom": null,
            "display": null,
            "flex": null,
            "flex_flow": null,
            "grid_area": null,
            "grid_auto_columns": null,
            "grid_auto_flow": null,
            "grid_auto_rows": null,
            "grid_column": null,
            "grid_gap": null,
            "grid_row": null,
            "grid_template_areas": null,
            "grid_template_columns": null,
            "grid_template_rows": null,
            "height": null,
            "justify_content": null,
            "justify_items": null,
            "left": null,
            "margin": null,
            "max_height": null,
            "max_width": null,
            "min_height": null,
            "min_width": null,
            "object_fit": null,
            "object_position": null,
            "order": null,
            "overflow": null,
            "overflow_x": null,
            "overflow_y": null,
            "padding": null,
            "right": null,
            "top": null,
            "visibility": null,
            "width": null
          }
        },
        "aeccce28172c425ea0efedfcef644608": {
          "model_module": "@jupyter-widgets/controls",
          "model_module_version": "1.5.0",
          "model_name": "ProgressStyleModel",
          "state": {
            "_model_module": "@jupyter-widgets/controls",
            "_model_module_version": "1.5.0",
            "_model_name": "ProgressStyleModel",
            "_view_count": null,
            "_view_module": "@jupyter-widgets/base",
            "_view_module_version": "1.2.0",
            "_view_name": "StyleView",
            "bar_color": null,
            "description_width": ""
          }
        },
        "b022906d3e934b42818c0c52d8130a20": {
          "model_module": "@jupyter-widgets/base",
          "model_module_version": "1.2.0",
          "model_name": "LayoutModel",
          "state": {
            "_model_module": "@jupyter-widgets/base",
            "_model_module_version": "1.2.0",
            "_model_name": "LayoutModel",
            "_view_count": null,
            "_view_module": "@jupyter-widgets/base",
            "_view_module_version": "1.2.0",
            "_view_name": "LayoutView",
            "align_content": null,
            "align_items": null,
            "align_self": null,
            "border": null,
            "bottom": null,
            "display": null,
            "flex": null,
            "flex_flow": null,
            "grid_area": null,
            "grid_auto_columns": null,
            "grid_auto_flow": null,
            "grid_auto_rows": null,
            "grid_column": null,
            "grid_gap": null,
            "grid_row": null,
            "grid_template_areas": null,
            "grid_template_columns": null,
            "grid_template_rows": null,
            "height": null,
            "justify_content": null,
            "justify_items": null,
            "left": null,
            "margin": null,
            "max_height": null,
            "max_width": null,
            "min_height": null,
            "min_width": null,
            "object_fit": null,
            "object_position": null,
            "order": null,
            "overflow": null,
            "overflow_x": null,
            "overflow_y": null,
            "padding": null,
            "right": null,
            "top": null,
            "visibility": null,
            "width": null
          }
        },
        "b04067d27666476f926ac6dfbb05226b": {
          "model_module": "@jupyter-widgets/controls",
          "model_module_version": "1.5.0",
          "model_name": "DescriptionStyleModel",
          "state": {
            "_model_module": "@jupyter-widgets/controls",
            "_model_module_version": "1.5.0",
            "_model_name": "DescriptionStyleModel",
            "_view_count": null,
            "_view_module": "@jupyter-widgets/base",
            "_view_module_version": "1.2.0",
            "_view_name": "StyleView",
            "description_width": ""
          }
        },
        "b3de1b939a484f05a7b77413bedb2a47": {
          "model_module": "@jupyter-widgets/controls",
          "model_module_version": "1.5.0",
          "model_name": "ProgressStyleModel",
          "state": {
            "_model_module": "@jupyter-widgets/controls",
            "_model_module_version": "1.5.0",
            "_model_name": "ProgressStyleModel",
            "_view_count": null,
            "_view_module": "@jupyter-widgets/base",
            "_view_module_version": "1.2.0",
            "_view_name": "StyleView",
            "bar_color": null,
            "description_width": ""
          }
        },
        "ba1a3c50e05c4015a93ef005db1c2fa3": {
          "model_module": "@jupyter-widgets/base",
          "model_module_version": "1.2.0",
          "model_name": "LayoutModel",
          "state": {
            "_model_module": "@jupyter-widgets/base",
            "_model_module_version": "1.2.0",
            "_model_name": "LayoutModel",
            "_view_count": null,
            "_view_module": "@jupyter-widgets/base",
            "_view_module_version": "1.2.0",
            "_view_name": "LayoutView",
            "align_content": null,
            "align_items": null,
            "align_self": null,
            "border": null,
            "bottom": null,
            "display": null,
            "flex": null,
            "flex_flow": null,
            "grid_area": null,
            "grid_auto_columns": null,
            "grid_auto_flow": null,
            "grid_auto_rows": null,
            "grid_column": null,
            "grid_gap": null,
            "grid_row": null,
            "grid_template_areas": null,
            "grid_template_columns": null,
            "grid_template_rows": null,
            "height": null,
            "justify_content": null,
            "justify_items": null,
            "left": null,
            "margin": null,
            "max_height": null,
            "max_width": null,
            "min_height": null,
            "min_width": null,
            "object_fit": null,
            "object_position": null,
            "order": null,
            "overflow": null,
            "overflow_x": null,
            "overflow_y": null,
            "padding": null,
            "right": null,
            "top": null,
            "visibility": null,
            "width": null
          }
        },
        "bb601c1f64474ab1bd2f866d3f30264b": {
          "model_module": "@jupyter-widgets/base",
          "model_module_version": "1.2.0",
          "model_name": "LayoutModel",
          "state": {
            "_model_module": "@jupyter-widgets/base",
            "_model_module_version": "1.2.0",
            "_model_name": "LayoutModel",
            "_view_count": null,
            "_view_module": "@jupyter-widgets/base",
            "_view_module_version": "1.2.0",
            "_view_name": "LayoutView",
            "align_content": null,
            "align_items": null,
            "align_self": null,
            "border": null,
            "bottom": null,
            "display": null,
            "flex": null,
            "flex_flow": null,
            "grid_area": null,
            "grid_auto_columns": null,
            "grid_auto_flow": null,
            "grid_auto_rows": null,
            "grid_column": null,
            "grid_gap": null,
            "grid_row": null,
            "grid_template_areas": null,
            "grid_template_columns": null,
            "grid_template_rows": null,
            "height": null,
            "justify_content": null,
            "justify_items": null,
            "left": null,
            "margin": null,
            "max_height": null,
            "max_width": null,
            "min_height": null,
            "min_width": null,
            "object_fit": null,
            "object_position": null,
            "order": null,
            "overflow": null,
            "overflow_x": null,
            "overflow_y": null,
            "padding": null,
            "right": null,
            "top": null,
            "visibility": null,
            "width": null
          }
        },
        "c496eaefd7d6429ca4e4e8bf93cef5b4": {
          "model_module": "@jupyter-widgets/controls",
          "model_module_version": "1.5.0",
          "model_name": "HTMLModel",
          "state": {
            "_dom_classes": [],
            "_model_module": "@jupyter-widgets/controls",
            "_model_module_version": "1.5.0",
            "_model_name": "HTMLModel",
            "_view_count": null,
            "_view_module": "@jupyter-widgets/controls",
            "_view_module_version": "1.5.0",
            "_view_name": "HTMLView",
            "description": "",
            "description_tooltip": null,
            "layout": "IPY_MODEL_0e45b02b2c4545ba96149d4769e8e181",
            "placeholder": "​",
            "style": "IPY_MODEL_896f07951b9a401aa1e9fb52d0183f7b",
            "value": " 53.3M/53.3M [00:01&lt;00:00, 58.8MB/s]"
          }
        },
        "c8047dd7bda64e978d212c0efb117e93": {
          "model_module": "@jupyter-widgets/controls",
          "model_module_version": "1.5.0",
          "model_name": "HTMLModel",
          "state": {
            "_dom_classes": [],
            "_model_module": "@jupyter-widgets/controls",
            "_model_module_version": "1.5.0",
            "_model_name": "HTMLModel",
            "_view_count": null,
            "_view_module": "@jupyter-widgets/controls",
            "_view_module_version": "1.5.0",
            "_view_name": "HTMLView",
            "description": "",
            "description_tooltip": null,
            "layout": "IPY_MODEL_fb77d0c9943943af9d2e50b2bd71eade",
            "placeholder": "​",
            "style": "IPY_MODEL_cf1fca3614804015a67283236be675ab",
            "value": " 44.7M/44.7M [00:01&lt;00:00, 56.1MB/s]"
          }
        },
        "c943cbfdf58a45e881ea259e998593ea": {
          "model_module": "@jupyter-widgets/base",
          "model_module_version": "1.2.0",
          "model_name": "LayoutModel",
          "state": {
            "_model_module": "@jupyter-widgets/base",
            "_model_module_version": "1.2.0",
            "_model_name": "LayoutModel",
            "_view_count": null,
            "_view_module": "@jupyter-widgets/base",
            "_view_module_version": "1.2.0",
            "_view_name": "LayoutView",
            "align_content": null,
            "align_items": null,
            "align_self": null,
            "border": null,
            "bottom": null,
            "display": null,
            "flex": null,
            "flex_flow": null,
            "grid_area": null,
            "grid_auto_columns": null,
            "grid_auto_flow": null,
            "grid_auto_rows": null,
            "grid_column": null,
            "grid_gap": null,
            "grid_row": null,
            "grid_template_areas": null,
            "grid_template_columns": null,
            "grid_template_rows": null,
            "height": null,
            "justify_content": null,
            "justify_items": null,
            "left": null,
            "margin": null,
            "max_height": null,
            "max_width": null,
            "min_height": null,
            "min_width": null,
            "object_fit": null,
            "object_position": null,
            "order": null,
            "overflow": null,
            "overflow_x": null,
            "overflow_y": null,
            "padding": null,
            "right": null,
            "top": null,
            "visibility": null,
            "width": null
          }
        },
        "ceb808d356c74b40bd0c68bea8ccb759": {
          "model_module": "@jupyter-widgets/controls",
          "model_module_version": "1.5.0",
          "model_name": "ProgressStyleModel",
          "state": {
            "_model_module": "@jupyter-widgets/controls",
            "_model_module_version": "1.5.0",
            "_model_name": "ProgressStyleModel",
            "_view_count": null,
            "_view_module": "@jupyter-widgets/base",
            "_view_module_version": "1.2.0",
            "_view_name": "StyleView",
            "bar_color": null,
            "description_width": ""
          }
        },
        "cf1fca3614804015a67283236be675ab": {
          "model_module": "@jupyter-widgets/controls",
          "model_module_version": "1.5.0",
          "model_name": "DescriptionStyleModel",
          "state": {
            "_model_module": "@jupyter-widgets/controls",
            "_model_module_version": "1.5.0",
            "_model_name": "DescriptionStyleModel",
            "_view_count": null,
            "_view_module": "@jupyter-widgets/base",
            "_view_module_version": "1.2.0",
            "_view_name": "StyleView",
            "description_width": ""
          }
        },
        "d32ab1f0f3904c719c2fa70307ee0547": {
          "model_module": "@jupyter-widgets/controls",
          "model_module_version": "1.5.0",
          "model_name": "FloatProgressModel",
          "state": {
            "_dom_classes": [],
            "_model_module": "@jupyter-widgets/controls",
            "_model_module_version": "1.5.0",
            "_model_name": "FloatProgressModel",
            "_view_count": null,
            "_view_module": "@jupyter-widgets/controls",
            "_view_module_version": "1.5.0",
            "_view_name": "ProgressView",
            "bar_style": "success",
            "description": "",
            "description_tooltip": null,
            "layout": "IPY_MODEL_c943cbfdf58a45e881ea259e998593ea",
            "max": 11714990,
            "min": 0,
            "orientation": "horizontal",
            "style": "IPY_MODEL_9f472f1147444f4ca87ca5ec781a50e7",
            "value": 11714990
          }
        },
        "d706643f9de14a09bd78b07aa393eb0a": {
          "model_module": "@jupyter-widgets/base",
          "model_module_version": "1.2.0",
          "model_name": "LayoutModel",
          "state": {
            "_model_module": "@jupyter-widgets/base",
            "_model_module_version": "1.2.0",
            "_model_name": "LayoutModel",
            "_view_count": null,
            "_view_module": "@jupyter-widgets/base",
            "_view_module_version": "1.2.0",
            "_view_name": "LayoutView",
            "align_content": null,
            "align_items": null,
            "align_self": null,
            "border": null,
            "bottom": null,
            "display": null,
            "flex": null,
            "flex_flow": null,
            "grid_area": null,
            "grid_auto_columns": null,
            "grid_auto_flow": null,
            "grid_auto_rows": null,
            "grid_column": null,
            "grid_gap": null,
            "grid_row": null,
            "grid_template_areas": null,
            "grid_template_columns": null,
            "grid_template_rows": null,
            "height": null,
            "justify_content": null,
            "justify_items": null,
            "left": null,
            "margin": null,
            "max_height": null,
            "max_width": null,
            "min_height": null,
            "min_width": null,
            "object_fit": null,
            "object_position": null,
            "order": null,
            "overflow": null,
            "overflow_x": null,
            "overflow_y": null,
            "padding": null,
            "right": null,
            "top": null,
            "visibility": null,
            "width": null
          }
        },
        "d9c3c2228e1a4802a2d8e701a51095db": {
          "model_module": "@jupyter-widgets/base",
          "model_module_version": "1.2.0",
          "model_name": "LayoutModel",
          "state": {
            "_model_module": "@jupyter-widgets/base",
            "_model_module_version": "1.2.0",
            "_model_name": "LayoutModel",
            "_view_count": null,
            "_view_module": "@jupyter-widgets/base",
            "_view_module_version": "1.2.0",
            "_view_name": "LayoutView",
            "align_content": null,
            "align_items": null,
            "align_self": null,
            "border": null,
            "bottom": null,
            "display": null,
            "flex": null,
            "flex_flow": null,
            "grid_area": null,
            "grid_auto_columns": null,
            "grid_auto_flow": null,
            "grid_auto_rows": null,
            "grid_column": null,
            "grid_gap": null,
            "grid_row": null,
            "grid_template_areas": null,
            "grid_template_columns": null,
            "grid_template_rows": null,
            "height": null,
            "justify_content": null,
            "justify_items": null,
            "left": null,
            "margin": null,
            "max_height": null,
            "max_width": null,
            "min_height": null,
            "min_width": null,
            "object_fit": null,
            "object_position": null,
            "order": null,
            "overflow": null,
            "overflow_x": null,
            "overflow_y": null,
            "padding": null,
            "right": null,
            "top": null,
            "visibility": null,
            "width": null
          }
        },
        "da83f3e4f6c448f3bd0dda1e7ca64e9e": {
          "model_module": "@jupyter-widgets/controls",
          "model_module_version": "1.5.0",
          "model_name": "HTMLModel",
          "state": {
            "_dom_classes": [],
            "_model_module": "@jupyter-widgets/controls",
            "_model_module_version": "1.5.0",
            "_model_name": "HTMLModel",
            "_view_count": null,
            "_view_module": "@jupyter-widgets/controls",
            "_view_module_version": "1.5.0",
            "_view_name": "HTMLView",
            "description": "",
            "description_tooltip": null,
            "layout": "IPY_MODEL_e86f60d09d0645629e3ac4a23115556d",
            "placeholder": "​",
            "style": "IPY_MODEL_fcb4f7d8cd6e41db9c697060e7c80ad5",
            "value": " 99.7M/99.7M [00:03&lt;00:00, 30.3MB/s]"
          }
        },
        "db7b4df7061640feb285bbd358b20ad6": {
          "model_module": "@jupyter-widgets/controls",
          "model_module_version": "1.5.0",
          "model_name": "FloatProgressModel",
          "state": {
            "_dom_classes": [],
            "_model_module": "@jupyter-widgets/controls",
            "_model_module_version": "1.5.0",
            "_model_name": "FloatProgressModel",
            "_view_count": null,
            "_view_module": "@jupyter-widgets/controls",
            "_view_module_version": "1.5.0",
            "_view_name": "ProgressView",
            "bar_style": "success",
            "description": "",
            "description_tooltip": null,
            "layout": "IPY_MODEL_d9c3c2228e1a4802a2d8e701a51095db",
            "max": 53289463,
            "min": 0,
            "orientation": "horizontal",
            "style": "IPY_MODEL_ceb808d356c74b40bd0c68bea8ccb759",
            "value": 53289463
          }
        },
        "dcbce404c811450b970ad6400b2c2627": {
          "model_module": "@jupyter-widgets/controls",
          "model_module_version": "1.5.0",
          "model_name": "ProgressStyleModel",
          "state": {
            "_model_module": "@jupyter-widgets/controls",
            "_model_module_version": "1.5.0",
            "_model_name": "ProgressStyleModel",
            "_view_count": null,
            "_view_module": "@jupyter-widgets/base",
            "_view_module_version": "1.2.0",
            "_view_name": "StyleView",
            "bar_color": null,
            "description_width": ""
          }
        },
        "df489cd4cf024cd49747b6382d3b3bb2": {
          "model_module": "@jupyter-widgets/controls",
          "model_module_version": "1.5.0",
          "model_name": "HTMLModel",
          "state": {
            "_dom_classes": [],
            "_model_module": "@jupyter-widgets/controls",
            "_model_module_version": "1.5.0",
            "_model_name": "HTMLModel",
            "_view_count": null,
            "_view_module": "@jupyter-widgets/controls",
            "_view_module_version": "1.5.0",
            "_view_name": "HTMLView",
            "description": "",
            "description_tooltip": null,
            "layout": "IPY_MODEL_13c875fb0a5d452b9e40ff8d019e2fb6",
            "placeholder": "​",
            "style": "IPY_MODEL_6dc7df2addf44f3ebde565e6c8711b2d",
            "value": "Downloading: 100%"
          }
        },
        "e7adf73c856540a6abff810b359d3b2f": {
          "model_module": "@jupyter-widgets/controls",
          "model_module_version": "1.5.0",
          "model_name": "HBoxModel",
          "state": {
            "_dom_classes": [],
            "_model_module": "@jupyter-widgets/controls",
            "_model_module_version": "1.5.0",
            "_model_name": "HBoxModel",
            "_view_count": null,
            "_view_module": "@jupyter-widgets/controls",
            "_view_module_version": "1.5.0",
            "_view_name": "HBoxView",
            "box_style": "",
            "children": [
              "IPY_MODEL_ab26850483484b1897a19a3f9417aa33",
              "IPY_MODEL_d32ab1f0f3904c719c2fa70307ee0547",
              "IPY_MODEL_96480d758db2437eaf9cfb00459e1408"
            ],
            "layout": "IPY_MODEL_f0eb6644af49495eb585e6984b1adac6"
          }
        },
        "e86f60d09d0645629e3ac4a23115556d": {
          "model_module": "@jupyter-widgets/base",
          "model_module_version": "1.2.0",
          "model_name": "LayoutModel",
          "state": {
            "_model_module": "@jupyter-widgets/base",
            "_model_module_version": "1.2.0",
            "_model_name": "LayoutModel",
            "_view_count": null,
            "_view_module": "@jupyter-widgets/base",
            "_view_module_version": "1.2.0",
            "_view_name": "LayoutView",
            "align_content": null,
            "align_items": null,
            "align_self": null,
            "border": null,
            "bottom": null,
            "display": null,
            "flex": null,
            "flex_flow": null,
            "grid_area": null,
            "grid_auto_columns": null,
            "grid_auto_flow": null,
            "grid_auto_rows": null,
            "grid_column": null,
            "grid_gap": null,
            "grid_row": null,
            "grid_template_areas": null,
            "grid_template_columns": null,
            "grid_template_rows": null,
            "height": null,
            "justify_content": null,
            "justify_items": null,
            "left": null,
            "margin": null,
            "max_height": null,
            "max_width": null,
            "min_height": null,
            "min_width": null,
            "object_fit": null,
            "object_position": null,
            "order": null,
            "overflow": null,
            "overflow_x": null,
            "overflow_y": null,
            "padding": null,
            "right": null,
            "top": null,
            "visibility": null,
            "width": null
          }
        },
        "ede25adbe55d4ef1b2e6fba9be272ee9": {
          "model_module": "@jupyter-widgets/controls",
          "model_module_version": "1.5.0",
          "model_name": "HBoxModel",
          "state": {
            "_dom_classes": [],
            "_model_module": "@jupyter-widgets/controls",
            "_model_module_version": "1.5.0",
            "_model_name": "HBoxModel",
            "_view_count": null,
            "_view_module": "@jupyter-widgets/controls",
            "_view_module_version": "1.5.0",
            "_view_name": "HBoxView",
            "box_style": "",
            "children": [
              "IPY_MODEL_070e5e078f2245319ac8803ad025f379",
              "IPY_MODEL_4fb50f2b73684d09824e237ac85d091c",
              "IPY_MODEL_0da464735a6e44b9a66179f215867f6e"
            ],
            "layout": "IPY_MODEL_a1144ee5faf94ab4baeff381897f9e10"
          }
        },
        "f0eb6644af49495eb585e6984b1adac6": {
          "model_module": "@jupyter-widgets/base",
          "model_module_version": "1.2.0",
          "model_name": "LayoutModel",
          "state": {
            "_model_module": "@jupyter-widgets/base",
            "_model_module_version": "1.2.0",
            "_model_name": "LayoutModel",
            "_view_count": null,
            "_view_module": "@jupyter-widgets/base",
            "_view_module_version": "1.2.0",
            "_view_name": "LayoutView",
            "align_content": null,
            "align_items": null,
            "align_self": null,
            "border": null,
            "bottom": null,
            "display": null,
            "flex": null,
            "flex_flow": null,
            "grid_area": null,
            "grid_auto_columns": null,
            "grid_auto_flow": null,
            "grid_auto_rows": null,
            "grid_column": null,
            "grid_gap": null,
            "grid_row": null,
            "grid_template_areas": null,
            "grid_template_columns": null,
            "grid_template_rows": null,
            "height": null,
            "justify_content": null,
            "justify_items": null,
            "left": null,
            "margin": null,
            "max_height": null,
            "max_width": null,
            "min_height": null,
            "min_width": null,
            "object_fit": null,
            "object_position": null,
            "order": null,
            "overflow": null,
            "overflow_x": null,
            "overflow_y": null,
            "padding": null,
            "right": null,
            "top": null,
            "visibility": null,
            "width": null
          }
        },
        "f3cc64361e3a4435a3dec8e924d9ef20": {
          "model_module": "@jupyter-widgets/controls",
          "model_module_version": "1.5.0",
          "model_name": "FloatProgressModel",
          "state": {
            "_dom_classes": [],
            "_model_module": "@jupyter-widgets/controls",
            "_model_module_version": "1.5.0",
            "_model_name": "FloatProgressModel",
            "_view_count": null,
            "_view_module": "@jupyter-widgets/controls",
            "_view_module_version": "1.5.0",
            "_view_name": "ProgressView",
            "bar_style": "success",
            "description": "",
            "description_tooltip": null,
            "layout": "IPY_MODEL_98a9c8fc34db45d39f84ae97d88a72b1",
            "max": 46827520,
            "min": 0,
            "orientation": "horizontal",
            "style": "IPY_MODEL_ab0963ef48654eb293e327f013e260f6",
            "value": 46827520
          }
        },
        "fb77d0c9943943af9d2e50b2bd71eade": {
          "model_module": "@jupyter-widgets/base",
          "model_module_version": "1.2.0",
          "model_name": "LayoutModel",
          "state": {
            "_model_module": "@jupyter-widgets/base",
            "_model_module_version": "1.2.0",
            "_model_name": "LayoutModel",
            "_view_count": null,
            "_view_module": "@jupyter-widgets/base",
            "_view_module_version": "1.2.0",
            "_view_name": "LayoutView",
            "align_content": null,
            "align_items": null,
            "align_self": null,
            "border": null,
            "bottom": null,
            "display": null,
            "flex": null,
            "flex_flow": null,
            "grid_area": null,
            "grid_auto_columns": null,
            "grid_auto_flow": null,
            "grid_auto_rows": null,
            "grid_column": null,
            "grid_gap": null,
            "grid_row": null,
            "grid_template_areas": null,
            "grid_template_columns": null,
            "grid_template_rows": null,
            "height": null,
            "justify_content": null,
            "justify_items": null,
            "left": null,
            "margin": null,
            "max_height": null,
            "max_width": null,
            "min_height": null,
            "min_width": null,
            "object_fit": null,
            "object_position": null,
            "order": null,
            "overflow": null,
            "overflow_x": null,
            "overflow_y": null,
            "padding": null,
            "right": null,
            "top": null,
            "visibility": null,
            "width": null
          }
        },
        "fcb4f7d8cd6e41db9c697060e7c80ad5": {
          "model_module": "@jupyter-widgets/controls",
          "model_module_version": "1.5.0",
          "model_name": "DescriptionStyleModel",
          "state": {
            "_model_module": "@jupyter-widgets/controls",
            "_model_module_version": "1.5.0",
            "_model_name": "DescriptionStyleModel",
            "_view_count": null,
            "_view_module": "@jupyter-widgets/base",
            "_view_module_version": "1.2.0",
            "_view_name": "StyleView",
            "description_width": ""
          }
        },
        "fd3371346c9e4fa08b60cabb5b75a830": {
          "model_module": "@jupyter-widgets/base",
          "model_module_version": "1.2.0",
          "model_name": "LayoutModel",
          "state": {
            "_model_module": "@jupyter-widgets/base",
            "_model_module_version": "1.2.0",
            "_model_name": "LayoutModel",
            "_view_count": null,
            "_view_module": "@jupyter-widgets/base",
            "_view_module_version": "1.2.0",
            "_view_name": "LayoutView",
            "align_content": null,
            "align_items": null,
            "align_self": null,
            "border": null,
            "bottom": null,
            "display": null,
            "flex": null,
            "flex_flow": null,
            "grid_area": null,
            "grid_auto_columns": null,
            "grid_auto_flow": null,
            "grid_auto_rows": null,
            "grid_column": null,
            "grid_gap": null,
            "grid_row": null,
            "grid_template_areas": null,
            "grid_template_columns": null,
            "grid_template_rows": null,
            "height": null,
            "justify_content": null,
            "justify_items": null,
            "left": null,
            "margin": null,
            "max_height": null,
            "max_width": null,
            "min_height": null,
            "min_width": null,
            "object_fit": null,
            "object_position": null,
            "order": null,
            "overflow": null,
            "overflow_x": null,
            "overflow_y": null,
            "padding": null,
            "right": null,
            "top": null,
            "visibility": null,
            "width": null
          }
        }
      }
    }
  },
  "nbformat": 4,
  "nbformat_minor": 0
}
